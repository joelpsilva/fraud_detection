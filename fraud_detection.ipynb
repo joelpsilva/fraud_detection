{
  "nbformat": 4,
  "nbformat_minor": 0,
  "metadata": {
    "colab": {
      "name": "Fraud Detection",
      "provenance": [],
      "collapsed_sections": [],
      "toc_visible": true,
      "mount_file_id": "1YW2ptstNV8J7QwUyNwdD8as7ZCU3a0t9",
      "authorship_tag": "ABX9TyPbRj51GVpri0FcnabwwCKU"
    },
    "kernelspec": {
      "name": "python3",
      "display_name": "Python 3"
    }
  },
  "cells": [
    {
      "cell_type": "markdown",
      "metadata": {
        "id": "IgzTKmhAodZ0"
      },
      "source": [
        "# 1) Workspace setup and data import\n",
        "\n",
        "The original data can be downloaded [here](https://www.kaggle.com/mlg-ulb/creditcardfraud)."
      ]
    },
    {
      "cell_type": "code",
      "metadata": {
        "id": "2OvX8nWi4_-3"
      },
      "source": [
        "# General libraries\n",
        "\n",
        "import numpy as np\n",
        "import pandas as pd\n",
        "import matplotlib.pyplot as plt\n",
        "%matplotlib inline\n",
        "import seaborn as sns\n",
        "\n",
        "# Logistic Regression Classifier\n",
        "from sklearn.linear_model import LogisticRegression\n",
        "\n",
        "# Recursive feature elimination\n",
        "from sklearn.feature_selection import RFE, RFECV\n",
        "\n",
        "# Model Evaluation\n",
        "from sklearn.metrics import accuracy_score, classification_report, precision_score, recall_score, f1_score\n",
        "from sklearn.metrics import confusion_matrix, precision_recall_curve, roc_curve, auc, log_loss\n",
        "\n",
        "# Other Libraries\n",
        "from sklearn.model_selection import train_test_split, GridSearchCV, cross_val_score\n",
        "\n",
        "\n",
        "# from sklearn.pipeline import make_pipeline\n",
        "# from imblearn.pipeline import make_pipeline as imbalanced_make_pipeline\n",
        "# from imblearn.under_sampling import NearMiss\n",
        "# from imblearn.metrics import classification_report_imbalanced\n",
        "# import collections\n",
        "# from collections import Counter\n",
        "import warnings\n",
        "warnings.filterwarnings(\"ignore\")"
      ],
      "execution_count": 185,
      "outputs": []
    },
    {
      "cell_type": "code",
      "metadata": {
        "id": "iLhwtnhf_NkA",
        "colab": {
          "base_uri": "https://localhost:8080/",
          "height": 224
        },
        "outputId": "69b69685-5a0c-4248-b29e-5823ab665682"
      },
      "source": [
        "# Import data into pandas dataframe\n",
        "data = pd.read_csv('/content/drive/My Drive/Fraud Detection project/creditcard.csv')\n",
        "data.head()"
      ],
      "execution_count": 186,
      "outputs": [
        {
          "output_type": "execute_result",
          "data": {
            "text/html": [
              "<div>\n",
              "<style scoped>\n",
              "    .dataframe tbody tr th:only-of-type {\n",
              "        vertical-align: middle;\n",
              "    }\n",
              "\n",
              "    .dataframe tbody tr th {\n",
              "        vertical-align: top;\n",
              "    }\n",
              "\n",
              "    .dataframe thead th {\n",
              "        text-align: right;\n",
              "    }\n",
              "</style>\n",
              "<table border=\"1\" class=\"dataframe\">\n",
              "  <thead>\n",
              "    <tr style=\"text-align: right;\">\n",
              "      <th></th>\n",
              "      <th>Time</th>\n",
              "      <th>V1</th>\n",
              "      <th>V2</th>\n",
              "      <th>V3</th>\n",
              "      <th>V4</th>\n",
              "      <th>V5</th>\n",
              "      <th>V6</th>\n",
              "      <th>V7</th>\n",
              "      <th>V8</th>\n",
              "      <th>V9</th>\n",
              "      <th>V10</th>\n",
              "      <th>V11</th>\n",
              "      <th>V12</th>\n",
              "      <th>V13</th>\n",
              "      <th>V14</th>\n",
              "      <th>V15</th>\n",
              "      <th>V16</th>\n",
              "      <th>V17</th>\n",
              "      <th>V18</th>\n",
              "      <th>V19</th>\n",
              "      <th>V20</th>\n",
              "      <th>V21</th>\n",
              "      <th>V22</th>\n",
              "      <th>V23</th>\n",
              "      <th>V24</th>\n",
              "      <th>V25</th>\n",
              "      <th>V26</th>\n",
              "      <th>V27</th>\n",
              "      <th>V28</th>\n",
              "      <th>Amount</th>\n",
              "      <th>Class</th>\n",
              "    </tr>\n",
              "  </thead>\n",
              "  <tbody>\n",
              "    <tr>\n",
              "      <th>0</th>\n",
              "      <td>0.0</td>\n",
              "      <td>-1.359807</td>\n",
              "      <td>-0.072781</td>\n",
              "      <td>2.536347</td>\n",
              "      <td>1.378155</td>\n",
              "      <td>-0.338321</td>\n",
              "      <td>0.462388</td>\n",
              "      <td>0.239599</td>\n",
              "      <td>0.098698</td>\n",
              "      <td>0.363787</td>\n",
              "      <td>0.090794</td>\n",
              "      <td>-0.551600</td>\n",
              "      <td>-0.617801</td>\n",
              "      <td>-0.991390</td>\n",
              "      <td>-0.311169</td>\n",
              "      <td>1.468177</td>\n",
              "      <td>-0.470401</td>\n",
              "      <td>0.207971</td>\n",
              "      <td>0.025791</td>\n",
              "      <td>0.403993</td>\n",
              "      <td>0.251412</td>\n",
              "      <td>-0.018307</td>\n",
              "      <td>0.277838</td>\n",
              "      <td>-0.110474</td>\n",
              "      <td>0.066928</td>\n",
              "      <td>0.128539</td>\n",
              "      <td>-0.189115</td>\n",
              "      <td>0.133558</td>\n",
              "      <td>-0.021053</td>\n",
              "      <td>149.62</td>\n",
              "      <td>0</td>\n",
              "    </tr>\n",
              "    <tr>\n",
              "      <th>1</th>\n",
              "      <td>0.0</td>\n",
              "      <td>1.191857</td>\n",
              "      <td>0.266151</td>\n",
              "      <td>0.166480</td>\n",
              "      <td>0.448154</td>\n",
              "      <td>0.060018</td>\n",
              "      <td>-0.082361</td>\n",
              "      <td>-0.078803</td>\n",
              "      <td>0.085102</td>\n",
              "      <td>-0.255425</td>\n",
              "      <td>-0.166974</td>\n",
              "      <td>1.612727</td>\n",
              "      <td>1.065235</td>\n",
              "      <td>0.489095</td>\n",
              "      <td>-0.143772</td>\n",
              "      <td>0.635558</td>\n",
              "      <td>0.463917</td>\n",
              "      <td>-0.114805</td>\n",
              "      <td>-0.183361</td>\n",
              "      <td>-0.145783</td>\n",
              "      <td>-0.069083</td>\n",
              "      <td>-0.225775</td>\n",
              "      <td>-0.638672</td>\n",
              "      <td>0.101288</td>\n",
              "      <td>-0.339846</td>\n",
              "      <td>0.167170</td>\n",
              "      <td>0.125895</td>\n",
              "      <td>-0.008983</td>\n",
              "      <td>0.014724</td>\n",
              "      <td>2.69</td>\n",
              "      <td>0</td>\n",
              "    </tr>\n",
              "    <tr>\n",
              "      <th>2</th>\n",
              "      <td>1.0</td>\n",
              "      <td>-1.358354</td>\n",
              "      <td>-1.340163</td>\n",
              "      <td>1.773209</td>\n",
              "      <td>0.379780</td>\n",
              "      <td>-0.503198</td>\n",
              "      <td>1.800499</td>\n",
              "      <td>0.791461</td>\n",
              "      <td>0.247676</td>\n",
              "      <td>-1.514654</td>\n",
              "      <td>0.207643</td>\n",
              "      <td>0.624501</td>\n",
              "      <td>0.066084</td>\n",
              "      <td>0.717293</td>\n",
              "      <td>-0.165946</td>\n",
              "      <td>2.345865</td>\n",
              "      <td>-2.890083</td>\n",
              "      <td>1.109969</td>\n",
              "      <td>-0.121359</td>\n",
              "      <td>-2.261857</td>\n",
              "      <td>0.524980</td>\n",
              "      <td>0.247998</td>\n",
              "      <td>0.771679</td>\n",
              "      <td>0.909412</td>\n",
              "      <td>-0.689281</td>\n",
              "      <td>-0.327642</td>\n",
              "      <td>-0.139097</td>\n",
              "      <td>-0.055353</td>\n",
              "      <td>-0.059752</td>\n",
              "      <td>378.66</td>\n",
              "      <td>0</td>\n",
              "    </tr>\n",
              "    <tr>\n",
              "      <th>3</th>\n",
              "      <td>1.0</td>\n",
              "      <td>-0.966272</td>\n",
              "      <td>-0.185226</td>\n",
              "      <td>1.792993</td>\n",
              "      <td>-0.863291</td>\n",
              "      <td>-0.010309</td>\n",
              "      <td>1.247203</td>\n",
              "      <td>0.237609</td>\n",
              "      <td>0.377436</td>\n",
              "      <td>-1.387024</td>\n",
              "      <td>-0.054952</td>\n",
              "      <td>-0.226487</td>\n",
              "      <td>0.178228</td>\n",
              "      <td>0.507757</td>\n",
              "      <td>-0.287924</td>\n",
              "      <td>-0.631418</td>\n",
              "      <td>-1.059647</td>\n",
              "      <td>-0.684093</td>\n",
              "      <td>1.965775</td>\n",
              "      <td>-1.232622</td>\n",
              "      <td>-0.208038</td>\n",
              "      <td>-0.108300</td>\n",
              "      <td>0.005274</td>\n",
              "      <td>-0.190321</td>\n",
              "      <td>-1.175575</td>\n",
              "      <td>0.647376</td>\n",
              "      <td>-0.221929</td>\n",
              "      <td>0.062723</td>\n",
              "      <td>0.061458</td>\n",
              "      <td>123.50</td>\n",
              "      <td>0</td>\n",
              "    </tr>\n",
              "    <tr>\n",
              "      <th>4</th>\n",
              "      <td>2.0</td>\n",
              "      <td>-1.158233</td>\n",
              "      <td>0.877737</td>\n",
              "      <td>1.548718</td>\n",
              "      <td>0.403034</td>\n",
              "      <td>-0.407193</td>\n",
              "      <td>0.095921</td>\n",
              "      <td>0.592941</td>\n",
              "      <td>-0.270533</td>\n",
              "      <td>0.817739</td>\n",
              "      <td>0.753074</td>\n",
              "      <td>-0.822843</td>\n",
              "      <td>0.538196</td>\n",
              "      <td>1.345852</td>\n",
              "      <td>-1.119670</td>\n",
              "      <td>0.175121</td>\n",
              "      <td>-0.451449</td>\n",
              "      <td>-0.237033</td>\n",
              "      <td>-0.038195</td>\n",
              "      <td>0.803487</td>\n",
              "      <td>0.408542</td>\n",
              "      <td>-0.009431</td>\n",
              "      <td>0.798278</td>\n",
              "      <td>-0.137458</td>\n",
              "      <td>0.141267</td>\n",
              "      <td>-0.206010</td>\n",
              "      <td>0.502292</td>\n",
              "      <td>0.219422</td>\n",
              "      <td>0.215153</td>\n",
              "      <td>69.99</td>\n",
              "      <td>0</td>\n",
              "    </tr>\n",
              "  </tbody>\n",
              "</table>\n",
              "</div>"
            ],
            "text/plain": [
              "   Time        V1        V2        V3  ...       V27       V28  Amount  Class\n",
              "0   0.0 -1.359807 -0.072781  2.536347  ...  0.133558 -0.021053  149.62      0\n",
              "1   0.0  1.191857  0.266151  0.166480  ... -0.008983  0.014724    2.69      0\n",
              "2   1.0 -1.358354 -1.340163  1.773209  ... -0.055353 -0.059752  378.66      0\n",
              "3   1.0 -0.966272 -0.185226  1.792993  ...  0.062723  0.061458  123.50      0\n",
              "4   2.0 -1.158233  0.877737  1.548718  ...  0.219422  0.215153   69.99      0\n",
              "\n",
              "[5 rows x 31 columns]"
            ]
          },
          "metadata": {
            "tags": []
          },
          "execution_count": 186
        }
      ]
    },
    {
      "cell_type": "markdown",
      "metadata": {
        "id": "D8mof0cy0gDw"
      },
      "source": [
        "# 2) Understanding the data\n",
        "According to the documentation, the dataset contains transactions made by credit cards in September 2013, over two days, by European cardholders.\n",
        "\n",
        "The 31 columns of the dataset only contain numerical input variables, which are the result of a PCA transformation of the original dataset. Features V1, V2, … V28 are the principal components obtained with PCA, and the only features which have not been transformed with PCA are 'Time' and 'Amount'. The original features are not provided due to  confidentiality issues.\n",
        "* 'Time' contains the seconds elapsed between each transaction and the first transaction in the dataset.\n",
        "* 'Amount' is the transaction amount\n",
        "\n",
        "**Summary**:\n",
        "* There are no null values in any of the columns of the dataset.\n",
        "* Out of 284,807 transactions, 492 (0.17%) were considered to be frauds (ie, 'Class' = 1). \n",
        "* This means that the dataset is **extremely unbalanced**. This issue is further discussed in section 4."
      ]
    },
    {
      "cell_type": "code",
      "metadata": {
        "id": "52gmahP70VZ0",
        "colab": {
          "base_uri": "https://localhost:8080/"
        },
        "outputId": "34f18f84-e8ec-476f-a441-24768f29dd54"
      },
      "source": [
        "data.columns"
      ],
      "execution_count": 187,
      "outputs": [
        {
          "output_type": "execute_result",
          "data": {
            "text/plain": [
              "Index(['Time', 'V1', 'V2', 'V3', 'V4', 'V5', 'V6', 'V7', 'V8', 'V9', 'V10',\n",
              "       'V11', 'V12', 'V13', 'V14', 'V15', 'V16', 'V17', 'V18', 'V19', 'V20',\n",
              "       'V21', 'V22', 'V23', 'V24', 'V25', 'V26', 'V27', 'V28', 'Amount',\n",
              "       'Class'],\n",
              "      dtype='object')"
            ]
          },
          "metadata": {
            "tags": []
          },
          "execution_count": 187
        }
      ]
    },
    {
      "cell_type": "code",
      "metadata": {
        "id": "lraf8tnRj4ei",
        "colab": {
          "base_uri": "https://localhost:8080/",
          "height": 317
        },
        "outputId": "df5f4bf9-5093-4e9d-f12d-2720920a04f8"
      },
      "source": [
        "data.describe()"
      ],
      "execution_count": 188,
      "outputs": [
        {
          "output_type": "execute_result",
          "data": {
            "text/html": [
              "<div>\n",
              "<style scoped>\n",
              "    .dataframe tbody tr th:only-of-type {\n",
              "        vertical-align: middle;\n",
              "    }\n",
              "\n",
              "    .dataframe tbody tr th {\n",
              "        vertical-align: top;\n",
              "    }\n",
              "\n",
              "    .dataframe thead th {\n",
              "        text-align: right;\n",
              "    }\n",
              "</style>\n",
              "<table border=\"1\" class=\"dataframe\">\n",
              "  <thead>\n",
              "    <tr style=\"text-align: right;\">\n",
              "      <th></th>\n",
              "      <th>Time</th>\n",
              "      <th>V1</th>\n",
              "      <th>V2</th>\n",
              "      <th>V3</th>\n",
              "      <th>V4</th>\n",
              "      <th>V5</th>\n",
              "      <th>V6</th>\n",
              "      <th>V7</th>\n",
              "      <th>V8</th>\n",
              "      <th>V9</th>\n",
              "      <th>V10</th>\n",
              "      <th>V11</th>\n",
              "      <th>V12</th>\n",
              "      <th>V13</th>\n",
              "      <th>V14</th>\n",
              "      <th>V15</th>\n",
              "      <th>V16</th>\n",
              "      <th>V17</th>\n",
              "      <th>V18</th>\n",
              "      <th>V19</th>\n",
              "      <th>V20</th>\n",
              "      <th>V21</th>\n",
              "      <th>V22</th>\n",
              "      <th>V23</th>\n",
              "      <th>V24</th>\n",
              "      <th>V25</th>\n",
              "      <th>V26</th>\n",
              "      <th>V27</th>\n",
              "      <th>V28</th>\n",
              "      <th>Amount</th>\n",
              "      <th>Class</th>\n",
              "    </tr>\n",
              "  </thead>\n",
              "  <tbody>\n",
              "    <tr>\n",
              "      <th>count</th>\n",
              "      <td>284807.000000</td>\n",
              "      <td>2.848070e+05</td>\n",
              "      <td>2.848070e+05</td>\n",
              "      <td>2.848070e+05</td>\n",
              "      <td>2.848070e+05</td>\n",
              "      <td>2.848070e+05</td>\n",
              "      <td>2.848070e+05</td>\n",
              "      <td>2.848070e+05</td>\n",
              "      <td>2.848070e+05</td>\n",
              "      <td>2.848070e+05</td>\n",
              "      <td>2.848070e+05</td>\n",
              "      <td>2.848070e+05</td>\n",
              "      <td>2.848070e+05</td>\n",
              "      <td>2.848070e+05</td>\n",
              "      <td>2.848070e+05</td>\n",
              "      <td>2.848070e+05</td>\n",
              "      <td>2.848070e+05</td>\n",
              "      <td>2.848070e+05</td>\n",
              "      <td>2.848070e+05</td>\n",
              "      <td>2.848070e+05</td>\n",
              "      <td>2.848070e+05</td>\n",
              "      <td>2.848070e+05</td>\n",
              "      <td>2.848070e+05</td>\n",
              "      <td>2.848070e+05</td>\n",
              "      <td>2.848070e+05</td>\n",
              "      <td>2.848070e+05</td>\n",
              "      <td>2.848070e+05</td>\n",
              "      <td>2.848070e+05</td>\n",
              "      <td>2.848070e+05</td>\n",
              "      <td>284807.000000</td>\n",
              "      <td>284807.000000</td>\n",
              "    </tr>\n",
              "    <tr>\n",
              "      <th>mean</th>\n",
              "      <td>94813.859575</td>\n",
              "      <td>3.919560e-15</td>\n",
              "      <td>5.688174e-16</td>\n",
              "      <td>-8.769071e-15</td>\n",
              "      <td>2.782312e-15</td>\n",
              "      <td>-1.552563e-15</td>\n",
              "      <td>2.010663e-15</td>\n",
              "      <td>-1.694249e-15</td>\n",
              "      <td>-1.927028e-16</td>\n",
              "      <td>-3.137024e-15</td>\n",
              "      <td>1.768627e-15</td>\n",
              "      <td>9.170318e-16</td>\n",
              "      <td>-1.810658e-15</td>\n",
              "      <td>1.693438e-15</td>\n",
              "      <td>1.479045e-15</td>\n",
              "      <td>3.482336e-15</td>\n",
              "      <td>1.392007e-15</td>\n",
              "      <td>-7.528491e-16</td>\n",
              "      <td>4.328772e-16</td>\n",
              "      <td>9.049732e-16</td>\n",
              "      <td>5.085503e-16</td>\n",
              "      <td>1.537294e-16</td>\n",
              "      <td>7.959909e-16</td>\n",
              "      <td>5.367590e-16</td>\n",
              "      <td>4.458112e-15</td>\n",
              "      <td>1.453003e-15</td>\n",
              "      <td>1.699104e-15</td>\n",
              "      <td>-3.660161e-16</td>\n",
              "      <td>-1.206049e-16</td>\n",
              "      <td>88.349619</td>\n",
              "      <td>0.001727</td>\n",
              "    </tr>\n",
              "    <tr>\n",
              "      <th>std</th>\n",
              "      <td>47488.145955</td>\n",
              "      <td>1.958696e+00</td>\n",
              "      <td>1.651309e+00</td>\n",
              "      <td>1.516255e+00</td>\n",
              "      <td>1.415869e+00</td>\n",
              "      <td>1.380247e+00</td>\n",
              "      <td>1.332271e+00</td>\n",
              "      <td>1.237094e+00</td>\n",
              "      <td>1.194353e+00</td>\n",
              "      <td>1.098632e+00</td>\n",
              "      <td>1.088850e+00</td>\n",
              "      <td>1.020713e+00</td>\n",
              "      <td>9.992014e-01</td>\n",
              "      <td>9.952742e-01</td>\n",
              "      <td>9.585956e-01</td>\n",
              "      <td>9.153160e-01</td>\n",
              "      <td>8.762529e-01</td>\n",
              "      <td>8.493371e-01</td>\n",
              "      <td>8.381762e-01</td>\n",
              "      <td>8.140405e-01</td>\n",
              "      <td>7.709250e-01</td>\n",
              "      <td>7.345240e-01</td>\n",
              "      <td>7.257016e-01</td>\n",
              "      <td>6.244603e-01</td>\n",
              "      <td>6.056471e-01</td>\n",
              "      <td>5.212781e-01</td>\n",
              "      <td>4.822270e-01</td>\n",
              "      <td>4.036325e-01</td>\n",
              "      <td>3.300833e-01</td>\n",
              "      <td>250.120109</td>\n",
              "      <td>0.041527</td>\n",
              "    </tr>\n",
              "    <tr>\n",
              "      <th>min</th>\n",
              "      <td>0.000000</td>\n",
              "      <td>-5.640751e+01</td>\n",
              "      <td>-7.271573e+01</td>\n",
              "      <td>-4.832559e+01</td>\n",
              "      <td>-5.683171e+00</td>\n",
              "      <td>-1.137433e+02</td>\n",
              "      <td>-2.616051e+01</td>\n",
              "      <td>-4.355724e+01</td>\n",
              "      <td>-7.321672e+01</td>\n",
              "      <td>-1.343407e+01</td>\n",
              "      <td>-2.458826e+01</td>\n",
              "      <td>-4.797473e+00</td>\n",
              "      <td>-1.868371e+01</td>\n",
              "      <td>-5.791881e+00</td>\n",
              "      <td>-1.921433e+01</td>\n",
              "      <td>-4.498945e+00</td>\n",
              "      <td>-1.412985e+01</td>\n",
              "      <td>-2.516280e+01</td>\n",
              "      <td>-9.498746e+00</td>\n",
              "      <td>-7.213527e+00</td>\n",
              "      <td>-5.449772e+01</td>\n",
              "      <td>-3.483038e+01</td>\n",
              "      <td>-1.093314e+01</td>\n",
              "      <td>-4.480774e+01</td>\n",
              "      <td>-2.836627e+00</td>\n",
              "      <td>-1.029540e+01</td>\n",
              "      <td>-2.604551e+00</td>\n",
              "      <td>-2.256568e+01</td>\n",
              "      <td>-1.543008e+01</td>\n",
              "      <td>0.000000</td>\n",
              "      <td>0.000000</td>\n",
              "    </tr>\n",
              "    <tr>\n",
              "      <th>25%</th>\n",
              "      <td>54201.500000</td>\n",
              "      <td>-9.203734e-01</td>\n",
              "      <td>-5.985499e-01</td>\n",
              "      <td>-8.903648e-01</td>\n",
              "      <td>-8.486401e-01</td>\n",
              "      <td>-6.915971e-01</td>\n",
              "      <td>-7.682956e-01</td>\n",
              "      <td>-5.540759e-01</td>\n",
              "      <td>-2.086297e-01</td>\n",
              "      <td>-6.430976e-01</td>\n",
              "      <td>-5.354257e-01</td>\n",
              "      <td>-7.624942e-01</td>\n",
              "      <td>-4.055715e-01</td>\n",
              "      <td>-6.485393e-01</td>\n",
              "      <td>-4.255740e-01</td>\n",
              "      <td>-5.828843e-01</td>\n",
              "      <td>-4.680368e-01</td>\n",
              "      <td>-4.837483e-01</td>\n",
              "      <td>-4.988498e-01</td>\n",
              "      <td>-4.562989e-01</td>\n",
              "      <td>-2.117214e-01</td>\n",
              "      <td>-2.283949e-01</td>\n",
              "      <td>-5.423504e-01</td>\n",
              "      <td>-1.618463e-01</td>\n",
              "      <td>-3.545861e-01</td>\n",
              "      <td>-3.171451e-01</td>\n",
              "      <td>-3.269839e-01</td>\n",
              "      <td>-7.083953e-02</td>\n",
              "      <td>-5.295979e-02</td>\n",
              "      <td>5.600000</td>\n",
              "      <td>0.000000</td>\n",
              "    </tr>\n",
              "    <tr>\n",
              "      <th>50%</th>\n",
              "      <td>84692.000000</td>\n",
              "      <td>1.810880e-02</td>\n",
              "      <td>6.548556e-02</td>\n",
              "      <td>1.798463e-01</td>\n",
              "      <td>-1.984653e-02</td>\n",
              "      <td>-5.433583e-02</td>\n",
              "      <td>-2.741871e-01</td>\n",
              "      <td>4.010308e-02</td>\n",
              "      <td>2.235804e-02</td>\n",
              "      <td>-5.142873e-02</td>\n",
              "      <td>-9.291738e-02</td>\n",
              "      <td>-3.275735e-02</td>\n",
              "      <td>1.400326e-01</td>\n",
              "      <td>-1.356806e-02</td>\n",
              "      <td>5.060132e-02</td>\n",
              "      <td>4.807155e-02</td>\n",
              "      <td>6.641332e-02</td>\n",
              "      <td>-6.567575e-02</td>\n",
              "      <td>-3.636312e-03</td>\n",
              "      <td>3.734823e-03</td>\n",
              "      <td>-6.248109e-02</td>\n",
              "      <td>-2.945017e-02</td>\n",
              "      <td>6.781943e-03</td>\n",
              "      <td>-1.119293e-02</td>\n",
              "      <td>4.097606e-02</td>\n",
              "      <td>1.659350e-02</td>\n",
              "      <td>-5.213911e-02</td>\n",
              "      <td>1.342146e-03</td>\n",
              "      <td>1.124383e-02</td>\n",
              "      <td>22.000000</td>\n",
              "      <td>0.000000</td>\n",
              "    </tr>\n",
              "    <tr>\n",
              "      <th>75%</th>\n",
              "      <td>139320.500000</td>\n",
              "      <td>1.315642e+00</td>\n",
              "      <td>8.037239e-01</td>\n",
              "      <td>1.027196e+00</td>\n",
              "      <td>7.433413e-01</td>\n",
              "      <td>6.119264e-01</td>\n",
              "      <td>3.985649e-01</td>\n",
              "      <td>5.704361e-01</td>\n",
              "      <td>3.273459e-01</td>\n",
              "      <td>5.971390e-01</td>\n",
              "      <td>4.539234e-01</td>\n",
              "      <td>7.395934e-01</td>\n",
              "      <td>6.182380e-01</td>\n",
              "      <td>6.625050e-01</td>\n",
              "      <td>4.931498e-01</td>\n",
              "      <td>6.488208e-01</td>\n",
              "      <td>5.232963e-01</td>\n",
              "      <td>3.996750e-01</td>\n",
              "      <td>5.008067e-01</td>\n",
              "      <td>4.589494e-01</td>\n",
              "      <td>1.330408e-01</td>\n",
              "      <td>1.863772e-01</td>\n",
              "      <td>5.285536e-01</td>\n",
              "      <td>1.476421e-01</td>\n",
              "      <td>4.395266e-01</td>\n",
              "      <td>3.507156e-01</td>\n",
              "      <td>2.409522e-01</td>\n",
              "      <td>9.104512e-02</td>\n",
              "      <td>7.827995e-02</td>\n",
              "      <td>77.165000</td>\n",
              "      <td>0.000000</td>\n",
              "    </tr>\n",
              "    <tr>\n",
              "      <th>max</th>\n",
              "      <td>172792.000000</td>\n",
              "      <td>2.454930e+00</td>\n",
              "      <td>2.205773e+01</td>\n",
              "      <td>9.382558e+00</td>\n",
              "      <td>1.687534e+01</td>\n",
              "      <td>3.480167e+01</td>\n",
              "      <td>7.330163e+01</td>\n",
              "      <td>1.205895e+02</td>\n",
              "      <td>2.000721e+01</td>\n",
              "      <td>1.559499e+01</td>\n",
              "      <td>2.374514e+01</td>\n",
              "      <td>1.201891e+01</td>\n",
              "      <td>7.848392e+00</td>\n",
              "      <td>7.126883e+00</td>\n",
              "      <td>1.052677e+01</td>\n",
              "      <td>8.877742e+00</td>\n",
              "      <td>1.731511e+01</td>\n",
              "      <td>9.253526e+00</td>\n",
              "      <td>5.041069e+00</td>\n",
              "      <td>5.591971e+00</td>\n",
              "      <td>3.942090e+01</td>\n",
              "      <td>2.720284e+01</td>\n",
              "      <td>1.050309e+01</td>\n",
              "      <td>2.252841e+01</td>\n",
              "      <td>4.584549e+00</td>\n",
              "      <td>7.519589e+00</td>\n",
              "      <td>3.517346e+00</td>\n",
              "      <td>3.161220e+01</td>\n",
              "      <td>3.384781e+01</td>\n",
              "      <td>25691.160000</td>\n",
              "      <td>1.000000</td>\n",
              "    </tr>\n",
              "  </tbody>\n",
              "</table>\n",
              "</div>"
            ],
            "text/plain": [
              "                Time            V1  ...         Amount          Class\n",
              "count  284807.000000  2.848070e+05  ...  284807.000000  284807.000000\n",
              "mean    94813.859575  3.919560e-15  ...      88.349619       0.001727\n",
              "std     47488.145955  1.958696e+00  ...     250.120109       0.041527\n",
              "min         0.000000 -5.640751e+01  ...       0.000000       0.000000\n",
              "25%     54201.500000 -9.203734e-01  ...       5.600000       0.000000\n",
              "50%     84692.000000  1.810880e-02  ...      22.000000       0.000000\n",
              "75%    139320.500000  1.315642e+00  ...      77.165000       0.000000\n",
              "max    172792.000000  2.454930e+00  ...   25691.160000       1.000000\n",
              "\n",
              "[8 rows x 31 columns]"
            ]
          },
          "metadata": {
            "tags": []
          },
          "execution_count": 188
        }
      ]
    },
    {
      "cell_type": "code",
      "metadata": {
        "id": "hKVDdlam4J5j",
        "colab": {
          "base_uri": "https://localhost:8080/"
        },
        "outputId": "b83e8593-d860-4811-9ba6-7f8c59e215a7"
      },
      "source": [
        "# There are no null values in the data\n",
        "data.isna().sum().max()"
      ],
      "execution_count": 189,
      "outputs": [
        {
          "output_type": "execute_result",
          "data": {
            "text/plain": [
              "0"
            ]
          },
          "metadata": {
            "tags": []
          },
          "execution_count": 189
        }
      ]
    },
    {
      "cell_type": "code",
      "metadata": {
        "id": "inHHNdmX4KDW",
        "colab": {
          "base_uri": "https://localhost:8080/",
          "height": 378
        },
        "outputId": "db9261d7-acff-46f1-ade0-3164a351d65a"
      },
      "source": [
        "print(\"The dataset contains\", len(data),\"transactions.\")\n",
        "print(\"Fraud transactions: %i (%.2f%%).\" % (data['Class'].value_counts()[1], data['Class'].value_counts()[1]/len(data) * 100))\n",
        "print(\"Legitimate transactions: %i (%.2f%%).\" % (data['Class'].value_counts()[0],data['Class'].value_counts()[0]/len(data) * 100))\n",
        "\n",
        "# Ploting the transactions by Class\n",
        "count_classes = data.value_counts(data['Class']).sort_index()\n",
        "count_classes.plot(kind = 'bar', title = \"Distribution by Class \\n Legitimate = 0; Fraud = 1\", xlabel = \"Class\", ylabel = \"Frequency\", rot = 0)"
      ],
      "execution_count": 190,
      "outputs": [
        {
          "output_type": "stream",
          "text": [
            "The dataset contains 284807 transactions.\n",
            "Fraud transactions: 492 (0.17%).\n",
            "Legitimate transactions: 284315 (99.83%).\n"
          ],
          "name": "stdout"
        },
        {
          "output_type": "execute_result",
          "data": {
            "text/plain": [
              "<matplotlib.axes._subplots.AxesSubplot at 0x7efd4bc70898>"
            ]
          },
          "metadata": {
            "tags": []
          },
          "execution_count": 190
        },
        {
          "output_type": "display_data",
          "data": {
            "image/png": "[encoded data removed]",
            "text/plain": [
              "<Figure size 432x288 with 1 Axes>"
            ]
          },
          "metadata": {
            "tags": [],
            "needs_background": "light"
          }
        }
      ]
    },
    {
      "cell_type": "code",
      "metadata": {
        "id": "qs2rxTuimreh",
        "colab": {
          "base_uri": "https://localhost:8080/",
          "height": 483
        },
        "outputId": "7458a81d-e6cc-4c39-b2bf-d1b3b5ae460b"
      },
      "source": [
        "# Plotting column 'Amount' against 'Class'\n",
        "# The graph shows that the majority of frauds happen in transactions with lower amounts\n",
        "\n",
        "data.plot(kind = 'scatter', x = 'Class', y = 'Amount')\n",
        "\n",
        "fraud_amount = data.loc[data['Class'] == 1, 'Amount']\n",
        "legit_amount = data.loc[data['Class'] == 0, 'Amount']\n",
        "\n",
        "print(\"\"\"\n",
        "Amounts of fraudulent transactions: \\n Mean: %d \\n Median: %d \\n Max Amount: %d \\n \\n\n",
        "Amounts of legitimate transactions: \\n Mean: %d \\n Median: %d \\n Max Amount: %d\n",
        "\"\"\"\n",
        "% (fraud_amount.mean(), fraud_amount.median(), fraud_amount.max(), legit_amount.mean(), legit_amount.median(), legit_amount.max()))"
      ],
      "execution_count": 191,
      "outputs": [
        {
          "output_type": "stream",
          "text": [
            "\n",
            "Amounts of fraudulent transactions: \n",
            " Mean: 122 \n",
            " Median: 9 \n",
            " Max Amount: 2125 \n",
            " \n",
            "\n",
            "Amounts of legitimate transactions: \n",
            " Mean: 88 \n",
            " Median: 22 \n",
            " Max Amount: 25691\n",
            "\n"
          ],
          "name": "stdout"
        },
        {
          "output_type": "display_data",
          "data": {
            "image/png": "[encoded data removed]",
            "text/plain": [
              "<Figure size 432x288 with 1 Axes>"
            ]
          },
          "metadata": {
            "tags": [],
            "needs_background": "light"
          }
        }
      ]
    },
    {
      "cell_type": "markdown",
      "metadata": {
        "id": "VELRJhPH3W36"
      },
      "source": [
        "# 3) Scaling\n",
        "\n",
        "As mentioned previously, a PCA was performed in the original dataset and the V features (V1 to V28) are the obtained Principal Components of that transformation. The only features which have not been transformed with PCA are 'Time' and 'Amount'.\n",
        "\n",
        "In order to perform a PCA the features must be normalized first. Hence, we can assume that is what the authors of the dataset did regarding the V features. Therefore, columns 'Time' and 'Amount' must be scaled (normalized) as the other columns."
      ]
    },
    {
      "cell_type": "code",
      "metadata": {
        "id": "4YxYtbxWpfiW",
        "colab": {
          "base_uri": "https://localhost:8080/",
          "height": 224
        },
        "outputId": "4186dbcb-12d6-4e9e-9de7-8b347e1e85b6"
      },
      "source": [
        "from sklearn.preprocessing import StandardScaler\n",
        "\n",
        "# Create scaled columns 'scaled_amount' and 'scaled_time'\n",
        "data['scaled_amount'] = StandardScaler().fit_transform(data['Amount'].values.reshape(-1, 1))\n",
        "data['scaled_time'] = StandardScaler().fit_transform(data['Time'].values.reshape(-1, 1))\n",
        "\n",
        "# Removing old 'Amount' and 'Time' columns\n",
        "data.drop(['Amount', 'Time'], axis = 1, inplace = True)\n",
        "\n",
        "# Scaling complete\n",
        "data.head()"
      ],
      "execution_count": 192,
      "outputs": [
        {
          "output_type": "execute_result",
          "data": {
            "text/html": [
              "<div>\n",
              "<style scoped>\n",
              "    .dataframe tbody tr th:only-of-type {\n",
              "        vertical-align: middle;\n",
              "    }\n",
              "\n",
              "    .dataframe tbody tr th {\n",
              "        vertical-align: top;\n",
              "    }\n",
              "\n",
              "    .dataframe thead th {\n",
              "        text-align: right;\n",
              "    }\n",
              "</style>\n",
              "<table border=\"1\" class=\"dataframe\">\n",
              "  <thead>\n",
              "    <tr style=\"text-align: right;\">\n",
              "      <th></th>\n",
              "      <th>V1</th>\n",
              "      <th>V2</th>\n",
              "      <th>V3</th>\n",
              "      <th>V4</th>\n",
              "      <th>V5</th>\n",
              "      <th>V6</th>\n",
              "      <th>V7</th>\n",
              "      <th>V8</th>\n",
              "      <th>V9</th>\n",
              "      <th>V10</th>\n",
              "      <th>V11</th>\n",
              "      <th>V12</th>\n",
              "      <th>V13</th>\n",
              "      <th>V14</th>\n",
              "      <th>V15</th>\n",
              "      <th>V16</th>\n",
              "      <th>V17</th>\n",
              "      <th>V18</th>\n",
              "      <th>V19</th>\n",
              "      <th>V20</th>\n",
              "      <th>V21</th>\n",
              "      <th>V22</th>\n",
              "      <th>V23</th>\n",
              "      <th>V24</th>\n",
              "      <th>V25</th>\n",
              "      <th>V26</th>\n",
              "      <th>V27</th>\n",
              "      <th>V28</th>\n",
              "      <th>Class</th>\n",
              "      <th>scaled_amount</th>\n",
              "      <th>scaled_time</th>\n",
              "    </tr>\n",
              "  </thead>\n",
              "  <tbody>\n",
              "    <tr>\n",
              "      <th>0</th>\n",
              "      <td>-1.359807</td>\n",
              "      <td>-0.072781</td>\n",
              "      <td>2.536347</td>\n",
              "      <td>1.378155</td>\n",
              "      <td>-0.338321</td>\n",
              "      <td>0.462388</td>\n",
              "      <td>0.239599</td>\n",
              "      <td>0.098698</td>\n",
              "      <td>0.363787</td>\n",
              "      <td>0.090794</td>\n",
              "      <td>-0.551600</td>\n",
              "      <td>-0.617801</td>\n",
              "      <td>-0.991390</td>\n",
              "      <td>-0.311169</td>\n",
              "      <td>1.468177</td>\n",
              "      <td>-0.470401</td>\n",
              "      <td>0.207971</td>\n",
              "      <td>0.025791</td>\n",
              "      <td>0.403993</td>\n",
              "      <td>0.251412</td>\n",
              "      <td>-0.018307</td>\n",
              "      <td>0.277838</td>\n",
              "      <td>-0.110474</td>\n",
              "      <td>0.066928</td>\n",
              "      <td>0.128539</td>\n",
              "      <td>-0.189115</td>\n",
              "      <td>0.133558</td>\n",
              "      <td>-0.021053</td>\n",
              "      <td>0</td>\n",
              "      <td>0.244964</td>\n",
              "      <td>-1.996583</td>\n",
              "    </tr>\n",
              "    <tr>\n",
              "      <th>1</th>\n",
              "      <td>1.191857</td>\n",
              "      <td>0.266151</td>\n",
              "      <td>0.166480</td>\n",
              "      <td>0.448154</td>\n",
              "      <td>0.060018</td>\n",
              "      <td>-0.082361</td>\n",
              "      <td>-0.078803</td>\n",
              "      <td>0.085102</td>\n",
              "      <td>-0.255425</td>\n",
              "      <td>-0.166974</td>\n",
              "      <td>1.612727</td>\n",
              "      <td>1.065235</td>\n",
              "      <td>0.489095</td>\n",
              "      <td>-0.143772</td>\n",
              "      <td>0.635558</td>\n",
              "      <td>0.463917</td>\n",
              "      <td>-0.114805</td>\n",
              "      <td>-0.183361</td>\n",
              "      <td>-0.145783</td>\n",
              "      <td>-0.069083</td>\n",
              "      <td>-0.225775</td>\n",
              "      <td>-0.638672</td>\n",
              "      <td>0.101288</td>\n",
              "      <td>-0.339846</td>\n",
              "      <td>0.167170</td>\n",
              "      <td>0.125895</td>\n",
              "      <td>-0.008983</td>\n",
              "      <td>0.014724</td>\n",
              "      <td>0</td>\n",
              "      <td>-0.342475</td>\n",
              "      <td>-1.996583</td>\n",
              "    </tr>\n",
              "    <tr>\n",
              "      <th>2</th>\n",
              "      <td>-1.358354</td>\n",
              "      <td>-1.340163</td>\n",
              "      <td>1.773209</td>\n",
              "      <td>0.379780</td>\n",
              "      <td>-0.503198</td>\n",
              "      <td>1.800499</td>\n",
              "      <td>0.791461</td>\n",
              "      <td>0.247676</td>\n",
              "      <td>-1.514654</td>\n",
              "      <td>0.207643</td>\n",
              "      <td>0.624501</td>\n",
              "      <td>0.066084</td>\n",
              "      <td>0.717293</td>\n",
              "      <td>-0.165946</td>\n",
              "      <td>2.345865</td>\n",
              "      <td>-2.890083</td>\n",
              "      <td>1.109969</td>\n",
              "      <td>-0.121359</td>\n",
              "      <td>-2.261857</td>\n",
              "      <td>0.524980</td>\n",
              "      <td>0.247998</td>\n",
              "      <td>0.771679</td>\n",
              "      <td>0.909412</td>\n",
              "      <td>-0.689281</td>\n",
              "      <td>-0.327642</td>\n",
              "      <td>-0.139097</td>\n",
              "      <td>-0.055353</td>\n",
              "      <td>-0.059752</td>\n",
              "      <td>0</td>\n",
              "      <td>1.160686</td>\n",
              "      <td>-1.996562</td>\n",
              "    </tr>\n",
              "    <tr>\n",
              "      <th>3</th>\n",
              "      <td>-0.966272</td>\n",
              "      <td>-0.185226</td>\n",
              "      <td>1.792993</td>\n",
              "      <td>-0.863291</td>\n",
              "      <td>-0.010309</td>\n",
              "      <td>1.247203</td>\n",
              "      <td>0.237609</td>\n",
              "      <td>0.377436</td>\n",
              "      <td>-1.387024</td>\n",
              "      <td>-0.054952</td>\n",
              "      <td>-0.226487</td>\n",
              "      <td>0.178228</td>\n",
              "      <td>0.507757</td>\n",
              "      <td>-0.287924</td>\n",
              "      <td>-0.631418</td>\n",
              "      <td>-1.059647</td>\n",
              "      <td>-0.684093</td>\n",
              "      <td>1.965775</td>\n",
              "      <td>-1.232622</td>\n",
              "      <td>-0.208038</td>\n",
              "      <td>-0.108300</td>\n",
              "      <td>0.005274</td>\n",
              "      <td>-0.190321</td>\n",
              "      <td>-1.175575</td>\n",
              "      <td>0.647376</td>\n",
              "      <td>-0.221929</td>\n",
              "      <td>0.062723</td>\n",
              "      <td>0.061458</td>\n",
              "      <td>0</td>\n",
              "      <td>0.140534</td>\n",
              "      <td>-1.996562</td>\n",
              "    </tr>\n",
              "    <tr>\n",
              "      <th>4</th>\n",
              "      <td>-1.158233</td>\n",
              "      <td>0.877737</td>\n",
              "      <td>1.548718</td>\n",
              "      <td>0.403034</td>\n",
              "      <td>-0.407193</td>\n",
              "      <td>0.095921</td>\n",
              "      <td>0.592941</td>\n",
              "      <td>-0.270533</td>\n",
              "      <td>0.817739</td>\n",
              "      <td>0.753074</td>\n",
              "      <td>-0.822843</td>\n",
              "      <td>0.538196</td>\n",
              "      <td>1.345852</td>\n",
              "      <td>-1.119670</td>\n",
              "      <td>0.175121</td>\n",
              "      <td>-0.451449</td>\n",
              "      <td>-0.237033</td>\n",
              "      <td>-0.038195</td>\n",
              "      <td>0.803487</td>\n",
              "      <td>0.408542</td>\n",
              "      <td>-0.009431</td>\n",
              "      <td>0.798278</td>\n",
              "      <td>-0.137458</td>\n",
              "      <td>0.141267</td>\n",
              "      <td>-0.206010</td>\n",
              "      <td>0.502292</td>\n",
              "      <td>0.219422</td>\n",
              "      <td>0.215153</td>\n",
              "      <td>0</td>\n",
              "      <td>-0.073403</td>\n",
              "      <td>-1.996541</td>\n",
              "    </tr>\n",
              "  </tbody>\n",
              "</table>\n",
              "</div>"
            ],
            "text/plain": [
              "         V1        V2        V3  ...  Class  scaled_amount  scaled_time\n",
              "0 -1.359807 -0.072781  2.536347  ...      0       0.244964    -1.996583\n",
              "1  1.191857  0.266151  0.166480  ...      0      -0.342475    -1.996583\n",
              "2 -1.358354 -1.340163  1.773209  ...      0       1.160686    -1.996562\n",
              "3 -0.966272 -0.185226  1.792993  ...      0       0.140534    -1.996562\n",
              "4 -1.158233  0.877737  1.548718  ...      0      -0.073403    -1.996541\n",
              "\n",
              "[5 rows x 31 columns]"
            ]
          },
          "metadata": {
            "tags": []
          },
          "execution_count": 192
        }
      ]
    },
    {
      "cell_type": "markdown",
      "metadata": {
        "id": "LNuUqMEl-bJl"
      },
      "source": [
        "# 4) Unbalanced data and subsampling\n",
        "\n",
        "The large amount of identified legitimate transactions versus frauds suggests that this is an **unbalanced dataset**.\n",
        "\n",
        "By testing a model on an unbalanced dataset the accuracy and overall usefulness of such model can be seriously compromised due to:\n",
        "* Overfitting: the model will be unable to effectively understand and identify patterns in the data due to the higher amount of legitimate transactions.\n",
        "* Faulty correlations: as we will see, features in the unbalanced dataset hardly show any correlation, which could impact the performance of the model.\n",
        "\n",
        "There are a few methods that can be used to deal with this problem:\n",
        "1. Collect more data;\n",
        "2. Change the performance metric;\n",
        "3. Resample the dataset.\n",
        "\n",
        "In this section we will focus on the last solution by applying a **random under-sample** technique.\n",
        "\n",
        "In short, under-sampling removes instances of the over-represented class (in this case, legitimate transactions), in order to archive a balance between classes. Our approach will be to generate a subsample with a 50/50 ratio (i.e., same amount) of fraud and legitimate transactions.\n",
        "\n",
        "*Note: This approach has a few shortcomings that will be discussed in the later sections of the notebook.*"
      ]
    },
    {
      "cell_type": "code",
      "metadata": {
        "id": "YzE-r6txFrtY",
        "colab": {
          "base_uri": "https://localhost:8080/",
          "height": 565
        },
        "outputId": "8a652e91-fbf0-4a0d-f7df-6350109b59df"
      },
      "source": [
        "# To showcase the problems with the correlations in the unbalanced dataset, let us display the correlation matrix for the whole dataset.\n",
        "\n",
        "# Create sample figsize in inches\n",
        "fig, ax = plt.subplots(figsize=(12,8))\n",
        "\n",
        "# Unbalanced DataFrame Correlation\n",
        "corr = data.corr()\n",
        "sns.heatmap(corr, cmap='BuGn', ax=ax)\n",
        "ax.set_title(\"Unbalanced Dataset Correlation Matrix\", fontsize=14)\n",
        "plt.show()"
      ],
      "execution_count": 193,
      "outputs": [
        {
          "output_type": "display_data",
          "data": {
            "image/png": "[encoded data removed]",
            "text/plain": [
              "<Figure size 864x576 with 2 Axes>"
            ]
          },
          "metadata": {
            "tags": [],
            "needs_background": "light"
          }
        }
      ]
    },
    {
      "cell_type": "markdown",
      "metadata": {
        "id": "MsQw6ZTjzxeW"
      },
      "source": [
        "## 4.1) Training subsample\n",
        "### Generating a balanced subsample\n",
        "\n",
        "In this section we will apply the random under-sample technique to generate a \"balanced\" subsample, in which the number of legitimate transactions is equal to the number of fraudulent transactions.\n",
        "\n",
        "Steps:\n",
        "1. Determine the number of occurrences of the under-represented class (number of frauds = 492);\n",
        "2. Bring the number of the over-represented class \"down\" to the same amount (randomly select 492 legitimate transactions);\n",
        "3. And thus generate a subsample of the dataframe with a 50/50 ratio with regards to the classes."
      ]
    },
    {
      "cell_type": "code",
      "metadata": {
        "id": "oZqJ_A5nzwCN",
        "colab": {
          "base_uri": "https://localhost:8080/",
          "height": 224
        },
        "outputId": "c436e0fa-b754-4566-9ed2-092539776283"
      },
      "source": [
        "# Generate balanced subsample\n",
        "\n",
        "# Shuffle the data to randomize selection of legitimate cases\n",
        "new_df = data.sample(frac=1)\n",
        "\n",
        "# Number of fraudulent transactions:\n",
        "no_fraud = data['Class'].value_counts()[1]      # 492\n",
        "\n",
        "# Separate dataset by class\n",
        "fraud_df = new_df.loc[new_df['Class'] == 1]\n",
        "legit_df = new_df.loc[new_df['Class'] == 0][:no_fraud]\n",
        "\n",
        "# Concatenate the two dataframes\n",
        "new_df = pd.concat([fraud_df, legit_df])\n",
        "# And shuffle the new dataframe\n",
        "new_df = new_df.sample(frac=1, random_state=19)\n",
        "\n",
        "new_df.head()"
      ],
      "execution_count": 194,
      "outputs": [
        {
          "output_type": "execute_result",
          "data": {
            "text/html": [
              "<div>\n",
              "<style scoped>\n",
              "    .dataframe tbody tr th:only-of-type {\n",
              "        vertical-align: middle;\n",
              "    }\n",
              "\n",
              "    .dataframe tbody tr th {\n",
              "        vertical-align: top;\n",
              "    }\n",
              "\n",
              "    .dataframe thead th {\n",
              "        text-align: right;\n",
              "    }\n",
              "</style>\n",
              "<table border=\"1\" class=\"dataframe\">\n",
              "  <thead>\n",
              "    <tr style=\"text-align: right;\">\n",
              "      <th></th>\n",
              "      <th>V1</th>\n",
              "      <th>V2</th>\n",
              "      <th>V3</th>\n",
              "      <th>V4</th>\n",
              "      <th>V5</th>\n",
              "      <th>V6</th>\n",
              "      <th>V7</th>\n",
              "      <th>V8</th>\n",
              "      <th>V9</th>\n",
              "      <th>V10</th>\n",
              "      <th>V11</th>\n",
              "      <th>V12</th>\n",
              "      <th>V13</th>\n",
              "      <th>V14</th>\n",
              "      <th>V15</th>\n",
              "      <th>V16</th>\n",
              "      <th>V17</th>\n",
              "      <th>V18</th>\n",
              "      <th>V19</th>\n",
              "      <th>V20</th>\n",
              "      <th>V21</th>\n",
              "      <th>V22</th>\n",
              "      <th>V23</th>\n",
              "      <th>V24</th>\n",
              "      <th>V25</th>\n",
              "      <th>V26</th>\n",
              "      <th>V27</th>\n",
              "      <th>V28</th>\n",
              "      <th>Class</th>\n",
              "      <th>scaled_amount</th>\n",
              "      <th>scaled_time</th>\n",
              "    </tr>\n",
              "  </thead>\n",
              "  <tbody>\n",
              "    <tr>\n",
              "      <th>161747</th>\n",
              "      <td>-1.716749</td>\n",
              "      <td>0.744803</td>\n",
              "      <td>-0.862187</td>\n",
              "      <td>-2.984856</td>\n",
              "      <td>2.295172</td>\n",
              "      <td>-0.697655</td>\n",
              "      <td>2.415072</td>\n",
              "      <td>-1.105404</td>\n",
              "      <td>1.546137</td>\n",
              "      <td>1.357559</td>\n",
              "      <td>0.444295</td>\n",
              "      <td>0.262570</td>\n",
              "      <td>0.167378</td>\n",
              "      <td>-0.757984</td>\n",
              "      <td>0.328306</td>\n",
              "      <td>-1.703165</td>\n",
              "      <td>-0.378330</td>\n",
              "      <td>-2.411445</td>\n",
              "      <td>-2.125987</td>\n",
              "      <td>0.196357</td>\n",
              "      <td>-0.175962</td>\n",
              "      <td>1.335261</td>\n",
              "      <td>0.085648</td>\n",
              "      <td>-0.877190</td>\n",
              "      <td>-0.324443</td>\n",
              "      <td>0.462089</td>\n",
              "      <td>-0.511687</td>\n",
              "      <td>-0.807434</td>\n",
              "      <td>0</td>\n",
              "      <td>-0.329241</td>\n",
              "      <td>0.414170</td>\n",
              "    </tr>\n",
              "    <tr>\n",
              "      <th>184873</th>\n",
              "      <td>-3.164983</td>\n",
              "      <td>-3.517903</td>\n",
              "      <td>-1.279115</td>\n",
              "      <td>2.117235</td>\n",
              "      <td>1.145741</td>\n",
              "      <td>-0.935345</td>\n",
              "      <td>0.355602</td>\n",
              "      <td>0.446354</td>\n",
              "      <td>-0.150547</td>\n",
              "      <td>-0.364924</td>\n",
              "      <td>-1.515967</td>\n",
              "      <td>0.090218</td>\n",
              "      <td>0.307483</td>\n",
              "      <td>0.694520</td>\n",
              "      <td>0.372070</td>\n",
              "      <td>-0.365522</td>\n",
              "      <td>-0.075789</td>\n",
              "      <td>0.803038</td>\n",
              "      <td>0.082372</td>\n",
              "      <td>1.923438</td>\n",
              "      <td>1.158343</td>\n",
              "      <td>1.608053</td>\n",
              "      <td>1.049287</td>\n",
              "      <td>0.623452</td>\n",
              "      <td>-0.761159</td>\n",
              "      <td>-0.370585</td>\n",
              "      <td>0.366321</td>\n",
              "      <td>-0.153810</td>\n",
              "      <td>0</td>\n",
              "      <td>1.611270</td>\n",
              "      <td>0.665665</td>\n",
              "    </tr>\n",
              "    <tr>\n",
              "      <th>230476</th>\n",
              "      <td>-0.099724</td>\n",
              "      <td>2.795414</td>\n",
              "      <td>-6.423856</td>\n",
              "      <td>3.247513</td>\n",
              "      <td>-1.632290</td>\n",
              "      <td>-2.766665</td>\n",
              "      <td>-2.312223</td>\n",
              "      <td>0.961014</td>\n",
              "      <td>-1.896001</td>\n",
              "      <td>-4.919348</td>\n",
              "      <td>3.053654</td>\n",
              "      <td>-5.297811</td>\n",
              "      <td>-1.466030</td>\n",
              "      <td>-7.035880</td>\n",
              "      <td>1.997132</td>\n",
              "      <td>-3.836189</td>\n",
              "      <td>-2.515183</td>\n",
              "      <td>-0.864579</td>\n",
              "      <td>2.328927</td>\n",
              "      <td>0.340898</td>\n",
              "      <td>0.647714</td>\n",
              "      <td>0.126576</td>\n",
              "      <td>0.203953</td>\n",
              "      <td>0.008495</td>\n",
              "      <td>-0.174501</td>\n",
              "      <td>0.575295</td>\n",
              "      <td>0.152876</td>\n",
              "      <td>-0.098173</td>\n",
              "      <td>1</td>\n",
              "      <td>0.025869</td>\n",
              "      <td>1.085118</td>\n",
              "    </tr>\n",
              "    <tr>\n",
              "      <th>137896</th>\n",
              "      <td>1.189148</td>\n",
              "      <td>0.245258</td>\n",
              "      <td>0.394312</td>\n",
              "      <td>0.729470</td>\n",
              "      <td>-0.428640</td>\n",
              "      <td>-0.811898</td>\n",
              "      <td>-0.048341</td>\n",
              "      <td>-0.032105</td>\n",
              "      <td>0.150417</td>\n",
              "      <td>-0.299429</td>\n",
              "      <td>0.284102</td>\n",
              "      <td>-0.078110</td>\n",
              "      <td>-0.801720</td>\n",
              "      <td>-0.050369</td>\n",
              "      <td>1.426423</td>\n",
              "      <td>0.135774</td>\n",
              "      <td>0.445773</td>\n",
              "      <td>-0.737617</td>\n",
              "      <td>-0.673108</td>\n",
              "      <td>-0.183587</td>\n",
              "      <td>-0.249394</td>\n",
              "      <td>-0.733556</td>\n",
              "      <td>0.210351</td>\n",
              "      <td>0.334025</td>\n",
              "      <td>0.067583</td>\n",
              "      <td>0.107092</td>\n",
              "      <td>-0.012416</td>\n",
              "      <td>0.028704</td>\n",
              "      <td>0</td>\n",
              "      <td>-0.345313</td>\n",
              "      <td>-0.261831</td>\n",
              "    </tr>\n",
              "    <tr>\n",
              "      <th>44223</th>\n",
              "      <td>-19.139733</td>\n",
              "      <td>9.286847</td>\n",
              "      <td>-20.134992</td>\n",
              "      <td>7.818673</td>\n",
              "      <td>-15.652208</td>\n",
              "      <td>-1.668348</td>\n",
              "      <td>-21.340478</td>\n",
              "      <td>0.641900</td>\n",
              "      <td>-8.550110</td>\n",
              "      <td>-16.649628</td>\n",
              "      <td>4.818152</td>\n",
              "      <td>-9.445315</td>\n",
              "      <td>1.317056</td>\n",
              "      <td>-7.243461</td>\n",
              "      <td>0.830910</td>\n",
              "      <td>-9.533257</td>\n",
              "      <td>-18.750641</td>\n",
              "      <td>-8.092649</td>\n",
              "      <td>3.326758</td>\n",
              "      <td>0.427203</td>\n",
              "      <td>-2.182692</td>\n",
              "      <td>0.520543</td>\n",
              "      <td>-0.760556</td>\n",
              "      <td>0.662767</td>\n",
              "      <td>-0.948454</td>\n",
              "      <td>0.121796</td>\n",
              "      <td>-3.381843</td>\n",
              "      <td>-1.256524</td>\n",
              "      <td>1</td>\n",
              "      <td>0.206103</td>\n",
              "      <td>-1.115288</td>\n",
              "    </tr>\n",
              "  </tbody>\n",
              "</table>\n",
              "</div>"
            ],
            "text/plain": [
              "               V1        V2         V3  ...  Class  scaled_amount  scaled_time\n",
              "161747  -1.716749  0.744803  -0.862187  ...      0      -0.329241     0.414170\n",
              "184873  -3.164983 -3.517903  -1.279115  ...      0       1.611270     0.665665\n",
              "230476  -0.099724  2.795414  -6.423856  ...      1       0.025869     1.085118\n",
              "137896   1.189148  0.245258   0.394312  ...      0      -0.345313    -0.261831\n",
              "44223  -19.139733  9.286847 -20.134992  ...      1       0.206103    -1.115288\n",
              "\n",
              "[5 rows x 31 columns]"
            ]
          },
          "metadata": {
            "tags": []
          },
          "execution_count": 194
        }
      ]
    },
    {
      "cell_type": "code",
      "metadata": {
        "id": "71yGZXl1_ebQ",
        "colab": {
          "base_uri": "https://localhost:8080/",
          "height": 412
        },
        "outputId": "f1599c6e-9632-4854-d928-4e8a72466fb7"
      },
      "source": [
        "# The subsample is balanced with regards to the classes\n",
        "\n",
        "print(\"\"\"\n",
        "Number of transactions in the balanced subsample: %i\n",
        "Number of fraudulent transactions: %i (%i%%)\n",
        "Number of legitimate transactions: %i (%i%%)\n",
        "\"\"\" % (len(new_df), new_df['Class'].value_counts()[1],new_df['Class'].value_counts()[1]/len(new_df)*100, new_df['Class'].value_counts()[0], new_df['Class'].value_counts()[0]/len(new_df)*100))\n",
        "\n",
        "# Ploting the transactions by Class in subsample\n",
        "count_classes_new_df = new_df.value_counts(new_df['Class']).sort_index()\n",
        "count_classes_new_df.plot(kind = 'bar', title = \"Distribution by Class \\n Legitimate = 0; Fraud = 1\", xlabel = \"Class\", ylabel = \"Frequency\", rot = 0)"
      ],
      "execution_count": 195,
      "outputs": [
        {
          "output_type": "stream",
          "text": [
            "\n",
            "Number of transactions in the balanced subsample: 984\n",
            "Number of fraudulent transactions: 492 (50%)\n",
            "Number of legitimate transactions: 492 (50%)\n",
            "\n"
          ],
          "name": "stdout"
        },
        {
          "output_type": "execute_result",
          "data": {
            "text/plain": [
              "<matplotlib.axes._subplots.AxesSubplot at 0x7efd4c21d898>"
            ]
          },
          "metadata": {
            "tags": []
          },
          "execution_count": 195
        },
        {
          "output_type": "display_data",
          "data": {
            "image/png": "[encoded data removed]",
            "text/plain": [
              "<Figure size 432x288 with 1 Axes>"
            ]
          },
          "metadata": {
            "tags": [],
            "needs_background": "light"
          }
        }
      ]
    },
    {
      "cell_type": "code",
      "metadata": {
        "id": "ChYPlgQTHWKJ",
        "colab": {
          "base_uri": "https://localhost:8080/",
          "height": 565
        },
        "outputId": "d217d962-64d3-407e-eb27-ff1bb98f4cef"
      },
      "source": [
        "# Also, the previously mentioned problems with the correlations are now greatly reduced.\n",
        "\n",
        "fig, ax1 = plt.subplots(figsize=(12,8))\n",
        "\n",
        "# Balanced dataframe correlation\n",
        "corr = new_df.corr()\n",
        "sns.heatmap(corr, cmap='BuGn', ax = ax1)\n",
        "ax1.set_title(\"Unbalanced Dataset Correlation Matrix\", fontsize=14)\n",
        "plt.show()"
      ],
      "execution_count": 196,
      "outputs": [
        {
          "output_type": "display_data",
          "data": {
            "image/png": "[encoded data removed]",
            "text/plain": [
              "<Figure size 864x576 with 2 Axes>"
            ]
          },
          "metadata": {
            "tags": [],
            "needs_background": "light"
          }
        }
      ]
    },
    {
      "cell_type": "markdown",
      "metadata": {
        "id": "qOGv4-LwP27e"
      },
      "source": [
        "# 5) Logistic Regression Classifier\n",
        "\n",
        "This section will be comprised as follows:\n",
        "\n",
        "1. Feature selection using Recursive Feature Elimination and Cross-Validation (RFECV). The pruned features will be removed from the balanced subsample.\n",
        "2. Splitting the new balanced dataset into training and testing subsets.\n",
        "3. Determine the parameters that give the best predictive cross-validation score using GridSearchCV.\n",
        "4. Logistic Regression model evaluation (cross-validation score, classification report, confusion matrix).\n",
        "\n",
        "\n",
        "The classifier will be evaluated regarding its accuracy measures.\n",
        "\n",
        "Finally, we'll generate predictions on the training data using the developed model."
      ]
    },
    {
      "cell_type": "markdown",
      "metadata": {
        "id": "EM_2goDkHy7k"
      },
      "source": [
        "### 1) Feature selection using RFECV\n",
        "\n",
        "RFECV performs Recursive Feature Elimination (RFE) in a cross-validation loop to find the optimal number or the best number of features. It also returns the best features to include in the model.\n",
        "\n",
        "[Source](https://scikit-learn.org/stable/modules/generated/sklearn.feature_selection.RFECV.html#sklearn.feature_selection.RFECV)."
      ]
    },
    {
      "cell_type": "code",
      "metadata": {
        "colab": {
          "base_uri": "https://localhost:8080/"
        },
        "id": "PqaA7XHr9hbr",
        "outputId": "f08b17cf-9c48-453f-b23b-ef004005435e"
      },
      "source": [
        "# Create X (features) and y (response/check)\n",
        "X = new_df.drop('Class',axis=1)\n",
        "y = new_df['Class']\n",
        "\n",
        "# Logistic Regression Model\n",
        "lr = LogisticRegression()\n",
        "\n",
        "# Use accuracy score as the scorer\n",
        "rfecv = RFECV(estimator = lr, step=1, cv=5, scoring='accuracy')\n",
        "rfecv.fit(X, y)\n",
        "\n",
        "print(\"Optimal number of features: %d\" % rfecv.n_features_)\n",
        "print('Selected features: %s' % list(X.columns[rfecv.support_]))\n",
        "\n",
        "# Removing pruned features from balanced subsample.\n",
        "X = X[list(X.columns[rfecv.support_])]"
      ],
      "execution_count": 197,
      "outputs": [
        {
          "output_type": "stream",
          "text": [
            "Optimal number of features: 13\n",
            "Selected features: ['V4', 'V6', 'V8', 'V10', 'V11', 'V12', 'V13', 'V14', 'V20', 'V22', 'V27', 'V28', 'scaled_amount']\n"
          ],
          "name": "stdout"
        }
      ]
    },
    {
      "cell_type": "markdown",
      "metadata": {
        "id": "-wwDp3ybIUL8"
      },
      "source": [
        "### 2) Split subsample into training and testing subsets"
      ]
    },
    {
      "cell_type": "code",
      "metadata": {
        "id": "ZZO9pEqbSNAE"
      },
      "source": [
        "# 80/20 split\n",
        "X_train, X_test, y_train, y_test = train_test_split(X, y, test_size=0.2, random_state=19)"
      ],
      "execution_count": 198,
      "outputs": []
    },
    {
      "cell_type": "markdown",
      "metadata": {
        "id": "_0rW3jtNMZaF"
      },
      "source": [
        "### 3) Determine the best parameters (GridSearchCV)"
      ]
    },
    {
      "cell_type": "code",
      "metadata": {
        "id": "RhwRvez0Uzcs",
        "colab": {
          "base_uri": "https://localhost:8080/"
        },
        "outputId": "89beeccf-03d4-43e4-c6d6-ace862a9e127"
      },
      "source": [
        "# Fit a Logistic Regression classifier into the training data\n",
        "lr = LogisticRegression().fit(X_train, y_train)\n",
        "\n",
        "# We can check the cross-validation score of this \"untouched\" model:\n",
        "print(\"Pre-GridSearchCV Cross Validation Score: \", round(cross_val_score(lr, X_train, y_train).mean(),3)*100, \"%\")\n",
        "\n",
        "\n",
        "# Using GridSearchCV to figure out the parameters that return the best cross-validation score\n",
        "\n",
        "# Parameter grid:\n",
        "lr_params = {'penalty': ['l1', 'l2'], 'C': [0.001, 0.01, 0.1, 1, 10, 100, 1000]}\n",
        "\n",
        "grid_lr = GridSearchCV(estimator = LogisticRegression(), param_grid = lr_params)\n",
        "grid_lr.fit(X_train, y_train)\n",
        "\n",
        "# The Logistic Regression model with the best parameters:\n",
        "lr = grid_lr.best_estimator_\n",
        "print(\"\\nPost-GridSearchCV Cross Validation Score: \", round(cross_val_score(lr, X_train, y_train).mean(),3)*100, \"%\")"
      ],
      "execution_count": 199,
      "outputs": [
        {
          "output_type": "stream",
          "text": [
            "Pre-GridSearchCV Cross Validation Score:  95.0 %\n",
            "\n",
            "Post-GridSearchCV Cross Validation Score:  95.7 %\n"
          ],
          "name": "stdout"
        }
      ]
    },
    {
      "cell_type": "markdown",
      "metadata": {
        "id": "2h8tDvDqQwSa"
      },
      "source": [
        "### 4) Logistic Regression model evaluation"
      ]
    },
    {
      "cell_type": "code",
      "metadata": {
        "colab": {
          "base_uri": "https://localhost:8080/"
        },
        "id": "Z8iMEG_fT_RX",
        "outputId": "a5ddd689-c5c9-487d-8787-8e50fa2c1408"
      },
      "source": [
        "# Evaluation on training set\n",
        "y_pred_train = lr.predict(X_train)\n",
        "y_pred_train_prob = lr.predict_log_proba(X_train)[:, 1]\n",
        "[fpr, tpr, thr] = roc_curve(y_train, y_pred_train_prob)\n",
        "training_score = accuracy_score(y_train, y_pred_train)\n",
        "\n",
        "print(lr.__class__.__name__, \" training accuracy score: %2.3f\" % training_score)\n",
        "print(lr.__class__.__name__,\" auc is %2.3f\" % auc(fpr, tpr))\n",
        "print(lr.__class__.__name__, \" training classification report:\", \"\\n\", classification_report(y_train, y_pred_train))"
      ],
      "execution_count": 200,
      "outputs": [
        {
          "output_type": "stream",
          "text": [
            "LogisticRegression  training accuracy score: 0.958\n",
            "LogisticRegression  auc is 0.987\n",
            "LogisticRegression  training classification report: \n",
            "               precision    recall  f1-score   support\n",
            "\n",
            "           0       0.93      0.99      0.96       393\n",
            "           1       0.99      0.92      0.96       394\n",
            "\n",
            "    accuracy                           0.96       787\n",
            "   macro avg       0.96      0.96      0.96       787\n",
            "weighted avg       0.96      0.96      0.96       787\n",
            "\n"
          ],
          "name": "stdout"
        }
      ]
    },
    {
      "cell_type": "code",
      "metadata": {
        "colab": {
          "base_uri": "https://localhost:8080/",
          "height": 520
        },
        "id": "sy3iHFG7Tr9I",
        "outputId": "da33260b-fb12-4be2-994f-e3facb023a29"
      },
      "source": [
        "# Confusion Matrix on training set\n",
        "lr_cf_training = confusion_matrix(y_train, y_pred_train)\n",
        "\n",
        "fig, ax = plt.subplots(figsize=(12,8))\n",
        "\n",
        "sns.heatmap(lr_cf_training, ax=ax, annot=True, annot_kws={\"fontsize\":14}, cmap='BuGn')\n",
        "ax.set_title(\"Confusion Matrix \\n Logistic Regression | Training set\", fontsize=14)\n",
        "ax.set_xticklabels(['True: 0', 'True: 1'], fontsize=14)\n",
        "ax.set_yticklabels(['Predicted: 0', 'Predicted: 1'], fontsize=14, rotation=360)\n",
        "plt.show()"
      ],
      "execution_count": 201,
      "outputs": [
        {
          "output_type": "display_data",
          "data": {
            "image/png": "[encoded data removed]",
            "text/plain": [
              "<Figure size 864x576 with 2 Axes>"
            ]
          },
          "metadata": {
            "tags": [],
            "needs_background": "light"
          }
        }
      ]
    },
    {
      "cell_type": "code",
      "metadata": {
        "colab": {
          "base_uri": "https://localhost:8080/"
        },
        "id": "AtSDnQ1UVy8A",
        "outputId": "71859bfc-c4a4-4685-c626-f00637885faf"
      },
      "source": [
        "# Evaluation on test set (predictions)\n",
        "y_pred = lr.predict(X_test)\n",
        "y_pred_prob = lr.predict_log_proba(X_test)[:, 1]\n",
        "[fpr, tpr, thr] = roc_curve(y_test, y_pred_prob)\n",
        "testing_score = accuracy_score(y_test, y_pred)\n",
        "\n",
        "print(lr.__class__.__name__, \" training accuracy score: %2.3f\" % testing_score)\n",
        "print(lr.__class__.__name__,\" auc is %2.3f\" % auc(fpr, tpr))\n",
        "print(lr.__class__.__name__, \"testing classification report:\", \"\\n\", classification_report(y_test, y_pred))"
      ],
      "execution_count": 202,
      "outputs": [
        {
          "output_type": "stream",
          "text": [
            "LogisticRegression  training accuracy score: 0.929\n",
            "LogisticRegression  auc is 0.987\n",
            "LogisticRegression testing classification report: \n",
            "               precision    recall  f1-score   support\n",
            "\n",
            "           0       0.90      0.97      0.93        99\n",
            "           1       0.97      0.89      0.93        98\n",
            "\n",
            "    accuracy                           0.93       197\n",
            "   macro avg       0.93      0.93      0.93       197\n",
            "weighted avg       0.93      0.93      0.93       197\n",
            "\n"
          ],
          "name": "stdout"
        }
      ]
    },
    {
      "cell_type": "code",
      "metadata": {
        "colab": {
          "base_uri": "https://localhost:8080/",
          "height": 333
        },
        "id": "q2Bu6OqbTWqI",
        "outputId": "ddae4666-bce7-42bf-ec75-7ef4e7fb4b5b"
      },
      "source": [
        "# ROC Curve\n",
        "\n",
        "idx = np.min(np.where(tpr > 0.95)) # index of the first threshold for which the sensibility > 0.95\n",
        "\n",
        "plt.figure()\n",
        "plt.plot(fpr, tpr, color='darkgreen', label='ROC curve (area = %0.3f)' % auc(fpr, tpr))\n",
        "plt.plot([0, 1], [0, 1], 'k--')\n",
        "plt.plot([0,fpr[idx]], [tpr[idx],tpr[idx]], 'k--', color='lightblue')\n",
        "plt.plot([fpr[idx],fpr[idx]], [0,tpr[idx]], 'k--', color='lightblue')\n",
        "plt.xlim([0.0, 1.0])\n",
        "plt.ylim([0.0, 1.05])\n",
        "plt.xlabel('False Positive Rate (1 - specificity)', fontsize=14)\n",
        "plt.ylabel('True Positive Rate (recall)', fontsize=14)\n",
        "plt.title('Receiver operating characteristic (ROC) curve')\n",
        "plt.legend(loc=\"lower right\")\n",
        "plt.show()\n",
        "\n",
        "print(\"\\nUsing a threshold of %.3f \" % thr[idx] + \"guarantees a sensitivity of %.3f \" % tpr[idx] +  \n",
        "      \"and a specificity of %.3f\" % (1-fpr[idx]) + \n",
        "      \", i.e. a false positive rate of %.2f%%.\" % (np.array(fpr[idx])*100))\n"
      ],
      "execution_count": 203,
      "outputs": [
        {
          "output_type": "display_data",
          "data": {
            "image/png": "[encoded data removed]",
            "text/plain": [
              "<Figure size 432x288 with 1 Axes>"
            ]
          },
          "metadata": {
            "tags": [],
            "needs_background": "light"
          }
        },
        {
          "output_type": "stream",
          "text": [
            "\n",
            "Using a threshold of -1.593 guarantees a sensitivity of 0.969 and a specificity of 0.929, i.e. a false positive rate of 7.07%.\n"
          ],
          "name": "stdout"
        }
      ]
    },
    {
      "cell_type": "code",
      "metadata": {
        "colab": {
          "base_uri": "https://localhost:8080/",
          "height": 520
        },
        "id": "jvIzfA0sdi1p",
        "outputId": "0f79f1f7-7592-4c59-c204-9e15441bbaac"
      },
      "source": [
        "# Confusion Matrix on training set\n",
        "lr_cf= confusion_matrix(y_test, y_pred)\n",
        "\n",
        "fig, ax = plt.subplots(figsize=(12,8))\n",
        "\n",
        "sns.heatmap(lr_cf, ax=ax, annot=True, annot_kws={\"fontsize\":14}, cmap='BuGn')\n",
        "ax.set_title(\"Confusion Matrix \\n Logistic Regression | Test set\", fontsize=14)\n",
        "ax.set_xticklabels(['True: 0', 'True: 1'], fontsize=14)\n",
        "ax.set_yticklabels(['Predicted: 0', 'Predicted: 1'], fontsize=14, rotation=360)\n",
        "plt.show()"
      ],
      "execution_count": 204,
      "outputs": [
        {
          "output_type": "display_data",
          "data": {
            "image/png": "[encoded data removed]",
            "text/plain": [
              "<Figure size 864x576 with 2 Axes>"
            ]
          },
          "metadata": {
            "tags": [],
            "needs_background": "light"
          }
        }
      ]
    },
    {
      "cell_type": "markdown",
      "metadata": {
        "id": "scPO_VsPFmPQ"
      },
      "source": [
        "# 6) Conclusions\n",
        "\n",
        "* The model has an accuracy score of 0.93\n",
        "* A precision of 0.90\n",
        "* And a recall of 0.987\n",
        "* Area under the ROC Curve: 0.986\n",
        "\n",
        "*Note: Results might vary due to the random subsample generation (section 4.1).*"
      ]
    },
    {
      "cell_type": "markdown",
      "metadata": {
        "id": "NgwuS9UV4h_E"
      },
      "source": [
        "# 7) Improvements and Next Steps\n",
        "\n",
        "1. Problems with random under-sampling\n",
        "\n",
        "The main issue with random under-sampling is information loss, since we generate from a dataset with 284,807 observations a sample with (only) 984 transactions.\n",
        "\n",
        "**Possible solution**: Apply other subsampling technique, for example [SMOTE](https://machinelearningmastery.com/smote-oversampling-for-imbalanced-classification/).\n",
        "\n",
        "2. Under/over-sampling during cross-validation\n",
        "\n",
        "When dealing with unbalanced dataset, the order of events in the process of sampling take a whole other level of importance. It is highly recommended to **perform sampling during cross-validation** to avoid overfitting and \"data-leakage\" problems. Such technique would also allow to use the whole dataset for training and testing. [Learn more](https://www.marcoaltini.com/blog/dealing-with-imbalanced-data-undersampling-oversampling-and-proper-cross-validation).\n",
        "\n",
        "3. Lack of data pre-processing\n",
        "\n",
        "There is still room to perform more data pre-processing, for instance by inspecting the data for outliers or extremely correlated features.\n",
        "\n",
        "4. Testing other classifiers\n",
        "\n",
        "Despite the robustness of Logistic Regression, an interesting exercise would be to evaluate the performance of this classifier against other algorithms, such as Random Forest, Decision Tree, Support Vector Classifier, etc."
      ]
    }
  ]
}