{
  "nbformat": 4,
  "nbformat_minor": 0,
  "metadata": {
    "colab": {
      "name": "Fraud Detection",
      "provenance": [],
      "toc_visible": true,
      "mount_file_id": "1YW2ptstNV8J7QwUyNwdD8as7ZCU3a0t9",
      "authorship_tag": "ABX9TyMS8CaVfQf73qZ5FjQdVQo/"
    },
    "kernelspec": {
      "name": "python3",
      "display_name": "Python 3"
    }
  },
  "cells": [
    {
      "cell_type": "markdown",
      "metadata": {
        "id": "IgzTKmhAodZ0"
      },
      "source": [
        "# 1) Workspace setup and data import\n",
        "\n",
        "The original data can be downloaded [here](https://www.kaggle.com/mlg-ulb/creditcardfraud)."
      ]
    },
    {
      "cell_type": "code",
      "metadata": {
        "id": "2OvX8nWi4_-3"
      },
      "source": [
        "# General libraries\n",
        "\n",
        "import numpy as np\n",
        "import pandas as pd\n",
        "import matplotlib.pyplot as plt\n",
        "%matplotlib inline\n",
        "import seaborn as sns\n",
        "\n",
        "# Logistic Regression Classifier\n",
        "from sklearn.linear_model import LogisticRegression\n",
        "\n",
        "# Recursive feature elimination\n",
        "from sklearn.feature_selection import RFE, RFECV\n",
        "\n",
        "# Model Evaluation\n",
        "from sklearn.metrics import accuracy_score, classification_report, precision_score, recall_score, f1_score\n",
        "from sklearn.metrics import confusion_matrix, precision_recall_curve, roc_curve, auc, log_loss\n",
        "\n",
        "# Other Libraries\n",
        "from sklearn.model_selection import train_test_split, GridSearchCV, cross_val_score\n",
        "\n",
        "\n",
        "# from sklearn.pipeline import make_pipeline\n",
        "# from imblearn.pipeline import make_pipeline as imbalanced_make_pipeline\n",
        "# from imblearn.under_sampling import NearMiss\n",
        "# from imblearn.metrics import classification_report_imbalanced\n",
        "# import collections\n",
        "# from collections import Counter\n",
        "import warnings\n",
        "warnings.filterwarnings(\"ignore\")"
      ],
      "execution_count": null,
      "outputs": []
    },
    {
      "cell_type": "code",
      "metadata": {
        "id": "iLhwtnhf_NkA",
        "colab": {
          "base_uri": "https://localhost:8080/",
          "height": 224
        },
        "outputId": "88633abf-fdf0-4911-f4e3-5d016a869583"
      },
      "source": [
        "# Import data into pandas dataframe\n",
        "data = pd.read_csv('.../creditcard.csv')\n",
        "data.head()"
      ],
      "execution_count": null,
      "outputs": [
        {
          "output_type": "execute_result",
          "data": {
            "text/html": [
              "<div>\n",
              "<style scoped>\n",
              "    .dataframe tbody tr th:only-of-type {\n",
              "        vertical-align: middle;\n",
              "    }\n",
              "\n",
              "    .dataframe tbody tr th {\n",
              "        vertical-align: top;\n",
              "    }\n",
              "\n",
              "    .dataframe thead th {\n",
              "        text-align: right;\n",
              "    }\n",
              "</style>\n",
              "<table border=\"1\" class=\"dataframe\">\n",
              "  <thead>\n",
              "    <tr style=\"text-align: right;\">\n",
              "      <th></th>\n",
              "      <th>Time</th>\n",
              "      <th>V1</th>\n",
              "      <th>V2</th>\n",
              "      <th>V3</th>\n",
              "      <th>V4</th>\n",
              "      <th>V5</th>\n",
              "      <th>V6</th>\n",
              "      <th>V7</th>\n",
              "      <th>V8</th>\n",
              "      <th>V9</th>\n",
              "      <th>V10</th>\n",
              "      <th>V11</th>\n",
              "      <th>V12</th>\n",
              "      <th>V13</th>\n",
              "      <th>V14</th>\n",
              "      <th>V15</th>\n",
              "      <th>V16</th>\n",
              "      <th>V17</th>\n",
              "      <th>V18</th>\n",
              "      <th>V19</th>\n",
              "      <th>V20</th>\n",
              "      <th>V21</th>\n",
              "      <th>V22</th>\n",
              "      <th>V23</th>\n",
              "      <th>V24</th>\n",
              "      <th>V25</th>\n",
              "      <th>V26</th>\n",
              "      <th>V27</th>\n",
              "      <th>V28</th>\n",
              "      <th>Amount</th>\n",
              "      <th>Class</th>\n",
              "    </tr>\n",
              "  </thead>\n",
              "  <tbody>\n",
              "    <tr>\n",
              "      <th>0</th>\n",
              "      <td>0.0</td>\n",
              "      <td>-1.359807</td>\n",
              "      <td>-0.072781</td>\n",
              "      <td>2.536347</td>\n",
              "      <td>1.378155</td>\n",
              "      <td>-0.338321</td>\n",
              "      <td>0.462388</td>\n",
              "      <td>0.239599</td>\n",
              "      <td>0.098698</td>\n",
              "      <td>0.363787</td>\n",
              "      <td>0.090794</td>\n",
              "      <td>-0.551600</td>\n",
              "      <td>-0.617801</td>\n",
              "      <td>-0.991390</td>\n",
              "      <td>-0.311169</td>\n",
              "      <td>1.468177</td>\n",
              "      <td>-0.470401</td>\n",
              "      <td>0.207971</td>\n",
              "      <td>0.025791</td>\n",
              "      <td>0.403993</td>\n",
              "      <td>0.251412</td>\n",
              "      <td>-0.018307</td>\n",
              "      <td>0.277838</td>\n",
              "      <td>-0.110474</td>\n",
              "      <td>0.066928</td>\n",
              "      <td>0.128539</td>\n",
              "      <td>-0.189115</td>\n",
              "      <td>0.133558</td>\n",
              "      <td>-0.021053</td>\n",
              "      <td>149.62</td>\n",
              "      <td>0</td>\n",
              "    </tr>\n",
              "    <tr>\n",
              "      <th>1</th>\n",
              "      <td>0.0</td>\n",
              "      <td>1.191857</td>\n",
              "      <td>0.266151</td>\n",
              "      <td>0.166480</td>\n",
              "      <td>0.448154</td>\n",
              "      <td>0.060018</td>\n",
              "      <td>-0.082361</td>\n",
              "      <td>-0.078803</td>\n",
              "      <td>0.085102</td>\n",
              "      <td>-0.255425</td>\n",
              "      <td>-0.166974</td>\n",
              "      <td>1.612727</td>\n",
              "      <td>1.065235</td>\n",
              "      <td>0.489095</td>\n",
              "      <td>-0.143772</td>\n",
              "      <td>0.635558</td>\n",
              "      <td>0.463917</td>\n",
              "      <td>-0.114805</td>\n",
              "      <td>-0.183361</td>\n",
              "      <td>-0.145783</td>\n",
              "      <td>-0.069083</td>\n",
              "      <td>-0.225775</td>\n",
              "      <td>-0.638672</td>\n",
              "      <td>0.101288</td>\n",
              "      <td>-0.339846</td>\n",
              "      <td>0.167170</td>\n",
              "      <td>0.125895</td>\n",
              "      <td>-0.008983</td>\n",
              "      <td>0.014724</td>\n",
              "      <td>2.69</td>\n",
              "      <td>0</td>\n",
              "    </tr>\n",
              "    <tr>\n",
              "      <th>2</th>\n",
              "      <td>1.0</td>\n",
              "      <td>-1.358354</td>\n",
              "      <td>-1.340163</td>\n",
              "      <td>1.773209</td>\n",
              "      <td>0.379780</td>\n",
              "      <td>-0.503198</td>\n",
              "      <td>1.800499</td>\n",
              "      <td>0.791461</td>\n",
              "      <td>0.247676</td>\n",
              "      <td>-1.514654</td>\n",
              "      <td>0.207643</td>\n",
              "      <td>0.624501</td>\n",
              "      <td>0.066084</td>\n",
              "      <td>0.717293</td>\n",
              "      <td>-0.165946</td>\n",
              "      <td>2.345865</td>\n",
              "      <td>-2.890083</td>\n",
              "      <td>1.109969</td>\n",
              "      <td>-0.121359</td>\n",
              "      <td>-2.261857</td>\n",
              "      <td>0.524980</td>\n",
              "      <td>0.247998</td>\n",
              "      <td>0.771679</td>\n",
              "      <td>0.909412</td>\n",
              "      <td>-0.689281</td>\n",
              "      <td>-0.327642</td>\n",
              "      <td>-0.139097</td>\n",
              "      <td>-0.055353</td>\n",
              "      <td>-0.059752</td>\n",
              "      <td>378.66</td>\n",
              "      <td>0</td>\n",
              "    </tr>\n",
              "    <tr>\n",
              "      <th>3</th>\n",
              "      <td>1.0</td>\n",
              "      <td>-0.966272</td>\n",
              "      <td>-0.185226</td>\n",
              "      <td>1.792993</td>\n",
              "      <td>-0.863291</td>\n",
              "      <td>-0.010309</td>\n",
              "      <td>1.247203</td>\n",
              "      <td>0.237609</td>\n",
              "      <td>0.377436</td>\n",
              "      <td>-1.387024</td>\n",
              "      <td>-0.054952</td>\n",
              "      <td>-0.226487</td>\n",
              "      <td>0.178228</td>\n",
              "      <td>0.507757</td>\n",
              "      <td>-0.287924</td>\n",
              "      <td>-0.631418</td>\n",
              "      <td>-1.059647</td>\n",
              "      <td>-0.684093</td>\n",
              "      <td>1.965775</td>\n",
              "      <td>-1.232622</td>\n",
              "      <td>-0.208038</td>\n",
              "      <td>-0.108300</td>\n",
              "      <td>0.005274</td>\n",
              "      <td>-0.190321</td>\n",
              "      <td>-1.175575</td>\n",
              "      <td>0.647376</td>\n",
              "      <td>-0.221929</td>\n",
              "      <td>0.062723</td>\n",
              "      <td>0.061458</td>\n",
              "      <td>123.50</td>\n",
              "      <td>0</td>\n",
              "    </tr>\n",
              "    <tr>\n",
              "      <th>4</th>\n",
              "      <td>2.0</td>\n",
              "      <td>-1.158233</td>\n",
              "      <td>0.877737</td>\n",
              "      <td>1.548718</td>\n",
              "      <td>0.403034</td>\n",
              "      <td>-0.407193</td>\n",
              "      <td>0.095921</td>\n",
              "      <td>0.592941</td>\n",
              "      <td>-0.270533</td>\n",
              "      <td>0.817739</td>\n",
              "      <td>0.753074</td>\n",
              "      <td>-0.822843</td>\n",
              "      <td>0.538196</td>\n",
              "      <td>1.345852</td>\n",
              "      <td>-1.119670</td>\n",
              "      <td>0.175121</td>\n",
              "      <td>-0.451449</td>\n",
              "      <td>-0.237033</td>\n",
              "      <td>-0.038195</td>\n",
              "      <td>0.803487</td>\n",
              "      <td>0.408542</td>\n",
              "      <td>-0.009431</td>\n",
              "      <td>0.798278</td>\n",
              "      <td>-0.137458</td>\n",
              "      <td>0.141267</td>\n",
              "      <td>-0.206010</td>\n",
              "      <td>0.502292</td>\n",
              "      <td>0.219422</td>\n",
              "      <td>0.215153</td>\n",
              "      <td>69.99</td>\n",
              "      <td>0</td>\n",
              "    </tr>\n",
              "  </tbody>\n",
              "</table>\n",
              "</div>"
            ],
            "text/plain": [
              "   Time        V1        V2        V3  ...       V27       V28  Amount  Class\n",
              "0   0.0 -1.359807 -0.072781  2.536347  ...  0.133558 -0.021053  149.62      0\n",
              "1   0.0  1.191857  0.266151  0.166480  ... -0.008983  0.014724    2.69      0\n",
              "2   1.0 -1.358354 -1.340163  1.773209  ... -0.055353 -0.059752  378.66      0\n",
              "3   1.0 -0.966272 -0.185226  1.792993  ...  0.062723  0.061458  123.50      0\n",
              "4   2.0 -1.158233  0.877737  1.548718  ...  0.219422  0.215153   69.99      0\n",
              "\n",
              "[5 rows x 31 columns]"
            ]
          },
          "metadata": {
            "tags": []
          },
          "execution_count": 165
        }
      ]
    },
    {
      "cell_type": "markdown",
      "metadata": {
        "id": "D8mof0cy0gDw"
      },
      "source": [
        "# 2) Understanding the data\n",
        "According to the documentation, the dataset contains transactions made by credit cards in September 2013, over two days, by European cardholders.\n",
        "\n",
        "The 31 columns of the dataset only contain numerical input variables, which are the result of a PCA transformation of the original dataset. Features V1, V2, … V28 are the principal components obtained with PCA, and the only features which have not been transformed with PCA are 'Time' and 'Amount'. The original features are not provided due to  confidentiality issues.\n",
        "* 'Time' contains the seconds elapsed between each transaction and the first transaction in the dataset.\n",
        "* 'Amount' is the transaction amount\n",
        "\n",
        "**Summary**:\n",
        "* There are no null values in any of the columns of the dataset.\n",
        "* Out of 284,807 transactions, 492 (0.17%) were considered to be frauds (ie, 'Class' = 1). \n",
        "* This means that the dataset is **extremely unbalanced**. This issue is further discussed in section 4."
      ]
    },
    {
      "cell_type": "code",
      "metadata": {
        "id": "52gmahP70VZ0",
        "colab": {
          "base_uri": "https://localhost:8080/"
        },
        "outputId": "af060b33-2c8f-49f2-b8d1-323b8fe788a3"
      },
      "source": [
        "data.columns"
      ],
      "execution_count": null,
      "outputs": [
        {
          "output_type": "execute_result",
          "data": {
            "text/plain": [
              "Index(['Time', 'V1', 'V2', 'V3', 'V4', 'V5', 'V6', 'V7', 'V8', 'V9', 'V10',\n",
              "       'V11', 'V12', 'V13', 'V14', 'V15', 'V16', 'V17', 'V18', 'V19', 'V20',\n",
              "       'V21', 'V22', 'V23', 'V24', 'V25', 'V26', 'V27', 'V28', 'Amount',\n",
              "       'Class'],\n",
              "      dtype='object')"
            ]
          },
          "metadata": {
            "tags": []
          },
          "execution_count": 166
        }
      ]
    },
    {
      "cell_type": "code",
      "metadata": {
        "id": "lraf8tnRj4ei",
        "colab": {
          "base_uri": "https://localhost:8080/",
          "height": 317
        },
        "outputId": "cbf5ca12-823c-4e28-e8b1-8f1b1f2fdc68"
      },
      "source": [
        "data.describe()"
      ],
      "execution_count": null,
      "outputs": [
        {
          "output_type": "execute_result",
          "data": {
            "text/html": [
              "<div>\n",
              "<style scoped>\n",
              "    .dataframe tbody tr th:only-of-type {\n",
              "        vertical-align: middle;\n",
              "    }\n",
              "\n",
              "    .dataframe tbody tr th {\n",
              "        vertical-align: top;\n",
              "    }\n",
              "\n",
              "    .dataframe thead th {\n",
              "        text-align: right;\n",
              "    }\n",
              "</style>\n",
              "<table border=\"1\" class=\"dataframe\">\n",
              "  <thead>\n",
              "    <tr style=\"text-align: right;\">\n",
              "      <th></th>\n",
              "      <th>Time</th>\n",
              "      <th>V1</th>\n",
              "      <th>V2</th>\n",
              "      <th>V3</th>\n",
              "      <th>V4</th>\n",
              "      <th>V5</th>\n",
              "      <th>V6</th>\n",
              "      <th>V7</th>\n",
              "      <th>V8</th>\n",
              "      <th>V9</th>\n",
              "      <th>V10</th>\n",
              "      <th>V11</th>\n",
              "      <th>V12</th>\n",
              "      <th>V13</th>\n",
              "      <th>V14</th>\n",
              "      <th>V15</th>\n",
              "      <th>V16</th>\n",
              "      <th>V17</th>\n",
              "      <th>V18</th>\n",
              "      <th>V19</th>\n",
              "      <th>V20</th>\n",
              "      <th>V21</th>\n",
              "      <th>V22</th>\n",
              "      <th>V23</th>\n",
              "      <th>V24</th>\n",
              "      <th>V25</th>\n",
              "      <th>V26</th>\n",
              "      <th>V27</th>\n",
              "      <th>V28</th>\n",
              "      <th>Amount</th>\n",
              "      <th>Class</th>\n",
              "    </tr>\n",
              "  </thead>\n",
              "  <tbody>\n",
              "    <tr>\n",
              "      <th>count</th>\n",
              "      <td>284807.000000</td>\n",
              "      <td>2.848070e+05</td>\n",
              "      <td>2.848070e+05</td>\n",
              "      <td>2.848070e+05</td>\n",
              "      <td>2.848070e+05</td>\n",
              "      <td>2.848070e+05</td>\n",
              "      <td>2.848070e+05</td>\n",
              "      <td>2.848070e+05</td>\n",
              "      <td>2.848070e+05</td>\n",
              "      <td>2.848070e+05</td>\n",
              "      <td>2.848070e+05</td>\n",
              "      <td>2.848070e+05</td>\n",
              "      <td>2.848070e+05</td>\n",
              "      <td>2.848070e+05</td>\n",
              "      <td>2.848070e+05</td>\n",
              "      <td>2.848070e+05</td>\n",
              "      <td>2.848070e+05</td>\n",
              "      <td>2.848070e+05</td>\n",
              "      <td>2.848070e+05</td>\n",
              "      <td>2.848070e+05</td>\n",
              "      <td>2.848070e+05</td>\n",
              "      <td>2.848070e+05</td>\n",
              "      <td>2.848070e+05</td>\n",
              "      <td>2.848070e+05</td>\n",
              "      <td>2.848070e+05</td>\n",
              "      <td>2.848070e+05</td>\n",
              "      <td>2.848070e+05</td>\n",
              "      <td>2.848070e+05</td>\n",
              "      <td>2.848070e+05</td>\n",
              "      <td>284807.000000</td>\n",
              "      <td>284807.000000</td>\n",
              "    </tr>\n",
              "    <tr>\n",
              "      <th>mean</th>\n",
              "      <td>94813.859575</td>\n",
              "      <td>3.919560e-15</td>\n",
              "      <td>5.688174e-16</td>\n",
              "      <td>-8.769071e-15</td>\n",
              "      <td>2.782312e-15</td>\n",
              "      <td>-1.552563e-15</td>\n",
              "      <td>2.010663e-15</td>\n",
              "      <td>-1.694249e-15</td>\n",
              "      <td>-1.927028e-16</td>\n",
              "      <td>-3.137024e-15</td>\n",
              "      <td>1.768627e-15</td>\n",
              "      <td>9.170318e-16</td>\n",
              "      <td>-1.810658e-15</td>\n",
              "      <td>1.693438e-15</td>\n",
              "      <td>1.479045e-15</td>\n",
              "      <td>3.482336e-15</td>\n",
              "      <td>1.392007e-15</td>\n",
              "      <td>-7.528491e-16</td>\n",
              "      <td>4.328772e-16</td>\n",
              "      <td>9.049732e-16</td>\n",
              "      <td>5.085503e-16</td>\n",
              "      <td>1.537294e-16</td>\n",
              "      <td>7.959909e-16</td>\n",
              "      <td>5.367590e-16</td>\n",
              "      <td>4.458112e-15</td>\n",
              "      <td>1.453003e-15</td>\n",
              "      <td>1.699104e-15</td>\n",
              "      <td>-3.660161e-16</td>\n",
              "      <td>-1.206049e-16</td>\n",
              "      <td>88.349619</td>\n",
              "      <td>0.001727</td>\n",
              "    </tr>\n",
              "    <tr>\n",
              "      <th>std</th>\n",
              "      <td>47488.145955</td>\n",
              "      <td>1.958696e+00</td>\n",
              "      <td>1.651309e+00</td>\n",
              "      <td>1.516255e+00</td>\n",
              "      <td>1.415869e+00</td>\n",
              "      <td>1.380247e+00</td>\n",
              "      <td>1.332271e+00</td>\n",
              "      <td>1.237094e+00</td>\n",
              "      <td>1.194353e+00</td>\n",
              "      <td>1.098632e+00</td>\n",
              "      <td>1.088850e+00</td>\n",
              "      <td>1.020713e+00</td>\n",
              "      <td>9.992014e-01</td>\n",
              "      <td>9.952742e-01</td>\n",
              "      <td>9.585956e-01</td>\n",
              "      <td>9.153160e-01</td>\n",
              "      <td>8.762529e-01</td>\n",
              "      <td>8.493371e-01</td>\n",
              "      <td>8.381762e-01</td>\n",
              "      <td>8.140405e-01</td>\n",
              "      <td>7.709250e-01</td>\n",
              "      <td>7.345240e-01</td>\n",
              "      <td>7.257016e-01</td>\n",
              "      <td>6.244603e-01</td>\n",
              "      <td>6.056471e-01</td>\n",
              "      <td>5.212781e-01</td>\n",
              "      <td>4.822270e-01</td>\n",
              "      <td>4.036325e-01</td>\n",
              "      <td>3.300833e-01</td>\n",
              "      <td>250.120109</td>\n",
              "      <td>0.041527</td>\n",
              "    </tr>\n",
              "    <tr>\n",
              "      <th>min</th>\n",
              "      <td>0.000000</td>\n",
              "      <td>-5.640751e+01</td>\n",
              "      <td>-7.271573e+01</td>\n",
              "      <td>-4.832559e+01</td>\n",
              "      <td>-5.683171e+00</td>\n",
              "      <td>-1.137433e+02</td>\n",
              "      <td>-2.616051e+01</td>\n",
              "      <td>-4.355724e+01</td>\n",
              "      <td>-7.321672e+01</td>\n",
              "      <td>-1.343407e+01</td>\n",
              "      <td>-2.458826e+01</td>\n",
              "      <td>-4.797473e+00</td>\n",
              "      <td>-1.868371e+01</td>\n",
              "      <td>-5.791881e+00</td>\n",
              "      <td>-1.921433e+01</td>\n",
              "      <td>-4.498945e+00</td>\n",
              "      <td>-1.412985e+01</td>\n",
              "      <td>-2.516280e+01</td>\n",
              "      <td>-9.498746e+00</td>\n",
              "      <td>-7.213527e+00</td>\n",
              "      <td>-5.449772e+01</td>\n",
              "      <td>-3.483038e+01</td>\n",
              "      <td>-1.093314e+01</td>\n",
              "      <td>-4.480774e+01</td>\n",
              "      <td>-2.836627e+00</td>\n",
              "      <td>-1.029540e+01</td>\n",
              "      <td>-2.604551e+00</td>\n",
              "      <td>-2.256568e+01</td>\n",
              "      <td>-1.543008e+01</td>\n",
              "      <td>0.000000</td>\n",
              "      <td>0.000000</td>\n",
              "    </tr>\n",
              "    <tr>\n",
              "      <th>25%</th>\n",
              "      <td>54201.500000</td>\n",
              "      <td>-9.203734e-01</td>\n",
              "      <td>-5.985499e-01</td>\n",
              "      <td>-8.903648e-01</td>\n",
              "      <td>-8.486401e-01</td>\n",
              "      <td>-6.915971e-01</td>\n",
              "      <td>-7.682956e-01</td>\n",
              "      <td>-5.540759e-01</td>\n",
              "      <td>-2.086297e-01</td>\n",
              "      <td>-6.430976e-01</td>\n",
              "      <td>-5.354257e-01</td>\n",
              "      <td>-7.624942e-01</td>\n",
              "      <td>-4.055715e-01</td>\n",
              "      <td>-6.485393e-01</td>\n",
              "      <td>-4.255740e-01</td>\n",
              "      <td>-5.828843e-01</td>\n",
              "      <td>-4.680368e-01</td>\n",
              "      <td>-4.837483e-01</td>\n",
              "      <td>-4.988498e-01</td>\n",
              "      <td>-4.562989e-01</td>\n",
              "      <td>-2.117214e-01</td>\n",
              "      <td>-2.283949e-01</td>\n",
              "      <td>-5.423504e-01</td>\n",
              "      <td>-1.618463e-01</td>\n",
              "      <td>-3.545861e-01</td>\n",
              "      <td>-3.171451e-01</td>\n",
              "      <td>-3.269839e-01</td>\n",
              "      <td>-7.083953e-02</td>\n",
              "      <td>-5.295979e-02</td>\n",
              "      <td>5.600000</td>\n",
              "      <td>0.000000</td>\n",
              "    </tr>\n",
              "    <tr>\n",
              "      <th>50%</th>\n",
              "      <td>84692.000000</td>\n",
              "      <td>1.810880e-02</td>\n",
              "      <td>6.548556e-02</td>\n",
              "      <td>1.798463e-01</td>\n",
              "      <td>-1.984653e-02</td>\n",
              "      <td>-5.433583e-02</td>\n",
              "      <td>-2.741871e-01</td>\n",
              "      <td>4.010308e-02</td>\n",
              "      <td>2.235804e-02</td>\n",
              "      <td>-5.142873e-02</td>\n",
              "      <td>-9.291738e-02</td>\n",
              "      <td>-3.275735e-02</td>\n",
              "      <td>1.400326e-01</td>\n",
              "      <td>-1.356806e-02</td>\n",
              "      <td>5.060132e-02</td>\n",
              "      <td>4.807155e-02</td>\n",
              "      <td>6.641332e-02</td>\n",
              "      <td>-6.567575e-02</td>\n",
              "      <td>-3.636312e-03</td>\n",
              "      <td>3.734823e-03</td>\n",
              "      <td>-6.248109e-02</td>\n",
              "      <td>-2.945017e-02</td>\n",
              "      <td>6.781943e-03</td>\n",
              "      <td>-1.119293e-02</td>\n",
              "      <td>4.097606e-02</td>\n",
              "      <td>1.659350e-02</td>\n",
              "      <td>-5.213911e-02</td>\n",
              "      <td>1.342146e-03</td>\n",
              "      <td>1.124383e-02</td>\n",
              "      <td>22.000000</td>\n",
              "      <td>0.000000</td>\n",
              "    </tr>\n",
              "    <tr>\n",
              "      <th>75%</th>\n",
              "      <td>139320.500000</td>\n",
              "      <td>1.315642e+00</td>\n",
              "      <td>8.037239e-01</td>\n",
              "      <td>1.027196e+00</td>\n",
              "      <td>7.433413e-01</td>\n",
              "      <td>6.119264e-01</td>\n",
              "      <td>3.985649e-01</td>\n",
              "      <td>5.704361e-01</td>\n",
              "      <td>3.273459e-01</td>\n",
              "      <td>5.971390e-01</td>\n",
              "      <td>4.539234e-01</td>\n",
              "      <td>7.395934e-01</td>\n",
              "      <td>6.182380e-01</td>\n",
              "      <td>6.625050e-01</td>\n",
              "      <td>4.931498e-01</td>\n",
              "      <td>6.488208e-01</td>\n",
              "      <td>5.232963e-01</td>\n",
              "      <td>3.996750e-01</td>\n",
              "      <td>5.008067e-01</td>\n",
              "      <td>4.589494e-01</td>\n",
              "      <td>1.330408e-01</td>\n",
              "      <td>1.863772e-01</td>\n",
              "      <td>5.285536e-01</td>\n",
              "      <td>1.476421e-01</td>\n",
              "      <td>4.395266e-01</td>\n",
              "      <td>3.507156e-01</td>\n",
              "      <td>2.409522e-01</td>\n",
              "      <td>9.104512e-02</td>\n",
              "      <td>7.827995e-02</td>\n",
              "      <td>77.165000</td>\n",
              "      <td>0.000000</td>\n",
              "    </tr>\n",
              "    <tr>\n",
              "      <th>max</th>\n",
              "      <td>172792.000000</td>\n",
              "      <td>2.454930e+00</td>\n",
              "      <td>2.205773e+01</td>\n",
              "      <td>9.382558e+00</td>\n",
              "      <td>1.687534e+01</td>\n",
              "      <td>3.480167e+01</td>\n",
              "      <td>7.330163e+01</td>\n",
              "      <td>1.205895e+02</td>\n",
              "      <td>2.000721e+01</td>\n",
              "      <td>1.559499e+01</td>\n",
              "      <td>2.374514e+01</td>\n",
              "      <td>1.201891e+01</td>\n",
              "      <td>7.848392e+00</td>\n",
              "      <td>7.126883e+00</td>\n",
              "      <td>1.052677e+01</td>\n",
              "      <td>8.877742e+00</td>\n",
              "      <td>1.731511e+01</td>\n",
              "      <td>9.253526e+00</td>\n",
              "      <td>5.041069e+00</td>\n",
              "      <td>5.591971e+00</td>\n",
              "      <td>3.942090e+01</td>\n",
              "      <td>2.720284e+01</td>\n",
              "      <td>1.050309e+01</td>\n",
              "      <td>2.252841e+01</td>\n",
              "      <td>4.584549e+00</td>\n",
              "      <td>7.519589e+00</td>\n",
              "      <td>3.517346e+00</td>\n",
              "      <td>3.161220e+01</td>\n",
              "      <td>3.384781e+01</td>\n",
              "      <td>25691.160000</td>\n",
              "      <td>1.000000</td>\n",
              "    </tr>\n",
              "  </tbody>\n",
              "</table>\n",
              "</div>"
            ],
            "text/plain": [
              "                Time            V1  ...         Amount          Class\n",
              "count  284807.000000  2.848070e+05  ...  284807.000000  284807.000000\n",
              "mean    94813.859575  3.919560e-15  ...      88.349619       0.001727\n",
              "std     47488.145955  1.958696e+00  ...     250.120109       0.041527\n",
              "min         0.000000 -5.640751e+01  ...       0.000000       0.000000\n",
              "25%     54201.500000 -9.203734e-01  ...       5.600000       0.000000\n",
              "50%     84692.000000  1.810880e-02  ...      22.000000       0.000000\n",
              "75%    139320.500000  1.315642e+00  ...      77.165000       0.000000\n",
              "max    172792.000000  2.454930e+00  ...   25691.160000       1.000000\n",
              "\n",
              "[8 rows x 31 columns]"
            ]
          },
          "metadata": {
            "tags": []
          },
          "execution_count": 167
        }
      ]
    },
    {
      "cell_type": "code",
      "metadata": {
        "id": "hKVDdlam4J5j",
        "colab": {
          "base_uri": "https://localhost:8080/"
        },
        "outputId": "fa594541-fcb3-46b1-fa57-10481353a150"
      },
      "source": [
        "# There are no null values in the data\n",
        "data.isna().sum().max()"
      ],
      "execution_count": null,
      "outputs": [
        {
          "output_type": "execute_result",
          "data": {
            "text/plain": [
              "0"
            ]
          },
          "metadata": {
            "tags": []
          },
          "execution_count": 168
        }
      ]
    },
    {
      "cell_type": "code",
      "metadata": {
        "id": "inHHNdmX4KDW",
        "colab": {
          "base_uri": "https://localhost:8080/",
          "height": 378
        },
        "outputId": "6c987568-098e-4993-b8ba-98295f421ec8"
      },
      "source": [
        "print(\"The dataset contains\", len(data),\"transactions.\")\n",
        "print(\"Fraud transactions: %i (%.2f%%).\" % (data['Class'].value_counts()[1], data['Class'].value_counts()[1]/len(data) * 100))\n",
        "print(\"Legitimate transactions: %i (%.2f%%).\" % (data['Class'].value_counts()[0],data['Class'].value_counts()[0]/len(data) * 100))\n",
        "\n",
        "# Ploting the transactions by Class\n",
        "count_classes = data.value_counts(data['Class']).sort_index()\n",
        "count_classes.plot(kind = 'bar', title = \"Distribution by Class \\n Legitimate = 0; Fraud = 1\", xlabel = \"Class\", ylabel = \"Frequency\", rot = 0)"
      ],
      "execution_count": null,
      "outputs": [
        {
          "output_type": "stream",
          "text": [
            "The dataset contains 284807 transactions.\n",
            "Fraud transactions: 492 (0.17%).\n",
            "Legitimate transactions: 284315 (99.83%).\n"
          ],
          "name": "stdout"
        },
        {
          "output_type": "execute_result",
          "data": {
            "text/plain": [
              "<matplotlib.axes._subplots.AxesSubplot at 0x7efd4c537978>"
            ]
          },
          "metadata": {
            "tags": []
          },
          "execution_count": 169
        },
        {
          "output_type": "display_data",
          "data": {
            "image/png": "[encoded data removed]",
            "text/plain": [
              "<Figure size 432x288 with 1 Axes>"
            ]
          },
          "metadata": {
            "tags": [],
            "needs_background": "light"
          }
        }
      ]
    },
    {
      "cell_type": "code",
      "metadata": {
        "id": "qs2rxTuimreh",
        "colab": {
          "base_uri": "https://localhost:8080/",
          "height": 483
        },
        "outputId": "3fd9bf22-4de7-4123-c09d-1df81b1b2013"
      },
      "source": [
        "# Plotting column 'Amount' against 'Class'\n",
        "# The graph shows that the majority of frauds happen in transactions with lower amounts\n",
        "\n",
        "data.plot(kind = 'scatter', x = 'Class', y = 'Amount')\n",
        "\n",
        "fraud_amount = data.loc[data['Class'] == 1, 'Amount']\n",
        "legit_amount = data.loc[data['Class'] == 0, 'Amount']\n",
        "\n",
        "print(\"\"\"\n",
        "Amounts of fraudulent transactions: \\n Mean: %d \\n Median: %d \\n Max Amount: %d \\n \\n\n",
        "Amounts of legitimate transactions: \\n Mean: %d \\n Median: %d \\n Max Amount: %d\n",
        "\"\"\"\n",
        "% (fraud_amount.mean(), fraud_amount.median(), fraud_amount.max(), legit_amount.mean(), legit_amount.median(), legit_amount.max()))"
      ],
      "execution_count": null,
      "outputs": [
        {
          "output_type": "stream",
          "text": [
            "\n",
            "Amounts of fraudlent transactions: \n",
            " Mean: 122 \n",
            " Median: 9 \n",
            " Max Amount: 2125 \n",
            " \n",
            "\n",
            "Amounts of legitimate transactions: \n",
            " Mean: 88 \n",
            " Median: 22 \n",
            " Max Amount: 25691\n",
            "\n"
          ],
          "name": "stdout"
        },
        {
          "output_type": "display_data",
          "data": {
            "image/png": "[encoded data removed]",
            "text/plain": [
              "<Figure size 432x288 with 1 Axes>"
            ]
          },
          "metadata": {
            "tags": [],
            "needs_background": "light"
          }
        }
      ]
    },
    {
      "cell_type": "markdown",
      "metadata": {
        "id": "VELRJhPH3W36"
      },
      "source": [
        "# 3) Scaling\n",
        "\n",
        "As mentioned previously, a PCA was performed in the original dataset and the V features (V1 to V28) are the obtained Principal Components of that transformation. The only features which have not been transformed with PCA are 'Time' and 'Amount'.\n",
        "\n",
        "In order to perform a PCA the features must be normalized first. Hence, we can assume that is what the authors of the dataset did regarding the V features. Therefore, columns 'Time' and 'Amount' must be scaled (normalized) as the other columns."
      ]
    },
    {
      "cell_type": "code",
      "metadata": {
        "id": "4YxYtbxWpfiW",
        "colab": {
          "base_uri": "https://localhost:8080/",
          "height": 224
        },
        "outputId": "29db7a9a-c8b6-4682-de8a-1e190709a01f"
      },
      "source": [
        "from sklearn.preprocessing import StandardScaler\n",
        "\n",
        "# Create scaled columns 'scaled_amount' and 'scaled_time'\n",
        "data['scaled_amount'] = StandardScaler().fit_transform(data['Amount'].values.reshape(-1, 1))\n",
        "data['scaled_time'] = StandardScaler().fit_transform(data['Time'].values.reshape(-1, 1))\n",
        "\n",
        "# Removing old 'Amount' and 'Time' columns\n",
        "data.drop(['Amount', 'Time'], axis = 1, inplace = True)\n",
        "\n",
        "# Scaling complete\n",
        "data.head()"
      ],
      "execution_count": null,
      "outputs": [
        {
          "output_type": "execute_result",
          "data": {
            "text/html": [
              "<div>\n",
              "<style scoped>\n",
              "    .dataframe tbody tr th:only-of-type {\n",
              "        vertical-align: middle;\n",
              "    }\n",
              "\n",
              "    .dataframe tbody tr th {\n",
              "        vertical-align: top;\n",
              "    }\n",
              "\n",
              "    .dataframe thead th {\n",
              "        text-align: right;\n",
              "    }\n",
              "</style>\n",
              "<table border=\"1\" class=\"dataframe\">\n",
              "  <thead>\n",
              "    <tr style=\"text-align: right;\">\n",
              "      <th></th>\n",
              "      <th>V1</th>\n",
              "      <th>V2</th>\n",
              "      <th>V3</th>\n",
              "      <th>V4</th>\n",
              "      <th>V5</th>\n",
              "      <th>V6</th>\n",
              "      <th>V7</th>\n",
              "      <th>V8</th>\n",
              "      <th>V9</th>\n",
              "      <th>V10</th>\n",
              "      <th>V11</th>\n",
              "      <th>V12</th>\n",
              "      <th>V13</th>\n",
              "      <th>V14</th>\n",
              "      <th>V15</th>\n",
              "      <th>V16</th>\n",
              "      <th>V17</th>\n",
              "      <th>V18</th>\n",
              "      <th>V19</th>\n",
              "      <th>V20</th>\n",
              "      <th>V21</th>\n",
              "      <th>V22</th>\n",
              "      <th>V23</th>\n",
              "      <th>V24</th>\n",
              "      <th>V25</th>\n",
              "      <th>V26</th>\n",
              "      <th>V27</th>\n",
              "      <th>V28</th>\n",
              "      <th>Class</th>\n",
              "      <th>scaled_amount</th>\n",
              "      <th>scaled_time</th>\n",
              "    </tr>\n",
              "  </thead>\n",
              "  <tbody>\n",
              "    <tr>\n",
              "      <th>0</th>\n",
              "      <td>-1.359807</td>\n",
              "      <td>-0.072781</td>\n",
              "      <td>2.536347</td>\n",
              "      <td>1.378155</td>\n",
              "      <td>-0.338321</td>\n",
              "      <td>0.462388</td>\n",
              "      <td>0.239599</td>\n",
              "      <td>0.098698</td>\n",
              "      <td>0.363787</td>\n",
              "      <td>0.090794</td>\n",
              "      <td>-0.551600</td>\n",
              "      <td>-0.617801</td>\n",
              "      <td>-0.991390</td>\n",
              "      <td>-0.311169</td>\n",
              "      <td>1.468177</td>\n",
              "      <td>-0.470401</td>\n",
              "      <td>0.207971</td>\n",
              "      <td>0.025791</td>\n",
              "      <td>0.403993</td>\n",
              "      <td>0.251412</td>\n",
              "      <td>-0.018307</td>\n",
              "      <td>0.277838</td>\n",
              "      <td>-0.110474</td>\n",
              "      <td>0.066928</td>\n",
              "      <td>0.128539</td>\n",
              "      <td>-0.189115</td>\n",
              "      <td>0.133558</td>\n",
              "      <td>-0.021053</td>\n",
              "      <td>0</td>\n",
              "      <td>0.244964</td>\n",
              "      <td>-1.996583</td>\n",
              "    </tr>\n",
              "    <tr>\n",
              "      <th>1</th>\n",
              "      <td>1.191857</td>\n",
              "      <td>0.266151</td>\n",
              "      <td>0.166480</td>\n",
              "      <td>0.448154</td>\n",
              "      <td>0.060018</td>\n",
              "      <td>-0.082361</td>\n",
              "      <td>-0.078803</td>\n",
              "      <td>0.085102</td>\n",
              "      <td>-0.255425</td>\n",
              "      <td>-0.166974</td>\n",
              "      <td>1.612727</td>\n",
              "      <td>1.065235</td>\n",
              "      <td>0.489095</td>\n",
              "      <td>-0.143772</td>\n",
              "      <td>0.635558</td>\n",
              "      <td>0.463917</td>\n",
              "      <td>-0.114805</td>\n",
              "      <td>-0.183361</td>\n",
              "      <td>-0.145783</td>\n",
              "      <td>-0.069083</td>\n",
              "      <td>-0.225775</td>\n",
              "      <td>-0.638672</td>\n",
              "      <td>0.101288</td>\n",
              "      <td>-0.339846</td>\n",
              "      <td>0.167170</td>\n",
              "      <td>0.125895</td>\n",
              "      <td>-0.008983</td>\n",
              "      <td>0.014724</td>\n",
              "      <td>0</td>\n",
              "      <td>-0.342475</td>\n",
              "      <td>-1.996583</td>\n",
              "    </tr>\n",
              "    <tr>\n",
              "      <th>2</th>\n",
              "      <td>-1.358354</td>\n",
              "      <td>-1.340163</td>\n",
              "      <td>1.773209</td>\n",
              "      <td>0.379780</td>\n",
              "      <td>-0.503198</td>\n",
              "      <td>1.800499</td>\n",
              "      <td>0.791461</td>\n",
              "      <td>0.247676</td>\n",
              "      <td>-1.514654</td>\n",
              "      <td>0.207643</td>\n",
              "      <td>0.624501</td>\n",
              "      <td>0.066084</td>\n",
              "      <td>0.717293</td>\n",
              "      <td>-0.165946</td>\n",
              "      <td>2.345865</td>\n",
              "      <td>-2.890083</td>\n",
              "      <td>1.109969</td>\n",
              "      <td>-0.121359</td>\n",
              "      <td>-2.261857</td>\n",
              "      <td>0.524980</td>\n",
              "      <td>0.247998</td>\n",
              "      <td>0.771679</td>\n",
              "      <td>0.909412</td>\n",
              "      <td>-0.689281</td>\n",
              "      <td>-0.327642</td>\n",
              "      <td>-0.139097</td>\n",
              "      <td>-0.055353</td>\n",
              "      <td>-0.059752</td>\n",
              "      <td>0</td>\n",
              "      <td>1.160686</td>\n",
              "      <td>-1.996562</td>\n",
              "    </tr>\n",
              "    <tr>\n",
              "      <th>3</th>\n",
              "      <td>-0.966272</td>\n",
              "      <td>-0.185226</td>\n",
              "      <td>1.792993</td>\n",
              "      <td>-0.863291</td>\n",
              "      <td>-0.010309</td>\n",
              "      <td>1.247203</td>\n",
              "      <td>0.237609</td>\n",
              "      <td>0.377436</td>\n",
              "      <td>-1.387024</td>\n",
              "      <td>-0.054952</td>\n",
              "      <td>-0.226487</td>\n",
              "      <td>0.178228</td>\n",
              "      <td>0.507757</td>\n",
              "      <td>-0.287924</td>\n",
              "      <td>-0.631418</td>\n",
              "      <td>-1.059647</td>\n",
              "      <td>-0.684093</td>\n",
              "      <td>1.965775</td>\n",
              "      <td>-1.232622</td>\n",
              "      <td>-0.208038</td>\n",
              "      <td>-0.108300</td>\n",
              "      <td>0.005274</td>\n",
              "      <td>-0.190321</td>\n",
              "      <td>-1.175575</td>\n",
              "      <td>0.647376</td>\n",
              "      <td>-0.221929</td>\n",
              "      <td>0.062723</td>\n",
              "      <td>0.061458</td>\n",
              "      <td>0</td>\n",
              "      <td>0.140534</td>\n",
              "      <td>-1.996562</td>\n",
              "    </tr>\n",
              "    <tr>\n",
              "      <th>4</th>\n",
              "      <td>-1.158233</td>\n",
              "      <td>0.877737</td>\n",
              "      <td>1.548718</td>\n",
              "      <td>0.403034</td>\n",
              "      <td>-0.407193</td>\n",
              "      <td>0.095921</td>\n",
              "      <td>0.592941</td>\n",
              "      <td>-0.270533</td>\n",
              "      <td>0.817739</td>\n",
              "      <td>0.753074</td>\n",
              "      <td>-0.822843</td>\n",
              "      <td>0.538196</td>\n",
              "      <td>1.345852</td>\n",
              "      <td>-1.119670</td>\n",
              "      <td>0.175121</td>\n",
              "      <td>-0.451449</td>\n",
              "      <td>-0.237033</td>\n",
              "      <td>-0.038195</td>\n",
              "      <td>0.803487</td>\n",
              "      <td>0.408542</td>\n",
              "      <td>-0.009431</td>\n",
              "      <td>0.798278</td>\n",
              "      <td>-0.137458</td>\n",
              "      <td>0.141267</td>\n",
              "      <td>-0.206010</td>\n",
              "      <td>0.502292</td>\n",
              "      <td>0.219422</td>\n",
              "      <td>0.215153</td>\n",
              "      <td>0</td>\n",
              "      <td>-0.073403</td>\n",
              "      <td>-1.996541</td>\n",
              "    </tr>\n",
              "  </tbody>\n",
              "</table>\n",
              "</div>"
            ],
            "text/plain": [
              "         V1        V2        V3  ...  Class  scaled_amount  scaled_time\n",
              "0 -1.359807 -0.072781  2.536347  ...      0       0.244964    -1.996583\n",
              "1  1.191857  0.266151  0.166480  ...      0      -0.342475    -1.996583\n",
              "2 -1.358354 -1.340163  1.773209  ...      0       1.160686    -1.996562\n",
              "3 -0.966272 -0.185226  1.792993  ...      0       0.140534    -1.996562\n",
              "4 -1.158233  0.877737  1.548718  ...      0      -0.073403    -1.996541\n",
              "\n",
              "[5 rows x 31 columns]"
            ]
          },
          "metadata": {
            "tags": []
          },
          "execution_count": 171
        }
      ]
    },
    {
      "cell_type": "markdown",
      "metadata": {
        "id": "LNuUqMEl-bJl"
      },
      "source": [
        "# 4) Unbalanced data and subsampling\n",
        "\n",
        "The large amount of identified legitimate transactions versus frauds suggests that this is an **unbalanced dataset**.\n",
        "\n",
        "By testing a model on an unbalanced dataset the accuracy and overall usefulness of such model can be seriously compromised due to:\n",
        "* Overfitting: the model will be unable to effectively understand and identify patterns in the data due to the higher amount of legitimate transactions.\n",
        "* Faulty correlations: as we will see, features in the unbalanced dataset hardly show any correlation, which could impact the performance of the model.\n",
        "\n",
        "There are a few methods that can be used to deal with this problem:\n",
        "1. Collect more data;\n",
        "2. Change the performance metric;\n",
        "3. Resample the dataset.\n",
        "\n",
        "In this section we will focus on the last solution by applying a **random under-sample** technique.\n",
        "\n",
        "In short, under-sampling removes instances of the over-represented class (in this case, legitimate transactions), in order to archive a balance between classes. Our approach will be to generate a subsample with a 50/50 ratio (i.e., same amount) of fraud and legitimate transactions.\n",
        "\n",
        "*Note: This approach has a few shortcomings that will be discussed in the later sections of the notebook.*"
      ]
    },
    {
      "cell_type": "code",
      "metadata": {
        "id": "YzE-r6txFrtY",
        "colab": {
          "base_uri": "https://localhost:8080/",
          "height": 565
        },
        "outputId": "93a48819-0a78-4938-b5d7-e737361beec1"
      },
      "source": [
        "# To showcase the problems with the correlations in the unbalanced dataset, let us display the correlation matrix for the whole dataset.\n",
        "\n",
        "# Create sample figsize in inches\n",
        "fig, ax = plt.subplots(figsize=(12,8))\n",
        "\n",
        "# Unbalanced DataFrame Correlation\n",
        "corr = data.corr()\n",
        "sns.heatmap(corr, cmap='BuGn', ax=ax)\n",
        "ax.set_title(\"Unbalanced Dataset Correlation Matrix\", fontsize=14)\n",
        "plt.show()"
      ],
      "execution_count": null,
      "outputs": [
        {
          "output_type": "display_data",
          "data": {
            "image/png": "[encoded data removed]",
            "text/plain": [
              "<Figure size 864x576 with 2 Axes>"
            ]
          },
          "metadata": {
            "tags": [],
            "needs_background": "light"
          }
        }
      ]
    },
    {
      "cell_type": "markdown",
      "metadata": {
        "id": "MsQw6ZTjzxeW"
      },
      "source": [
        "## 4.1) Training subsample\n",
        "### Generating a balanced subsample\n",
        "\n",
        "In this section we will apply the random under-sample technique to generate a \"balanced\" subsample, in which the number of legitimate transactions is equal to the number of fraudulent transactions.\n",
        "\n",
        "Steps:\n",
        "1. Determine the number of occurrences of the under-represented class (number of frauds = 492);\n",
        "2. Bring the number of the over-represented class \"down\" to the same amount (randomly select 492 legitimate transactions);\n",
        "3. And thus generate a subsample of the dataframe with a 50/50 ratio with regards to the classes."
      ]
    },
    {
      "cell_type": "code",
      "metadata": {
        "id": "oZqJ_A5nzwCN",
        "colab": {
          "base_uri": "https://localhost:8080/",
          "height": 224
        },
        "outputId": "8944cc4b-a5be-40c0-908c-c5cbd50f605e"
      },
      "source": [
        "# Generate balanced subsample\n",
        "\n",
        "# Shuffle the data to randomize selection of legitimate cases\n",
        "new_df = data.sample(frac=1)\n",
        "\n",
        "# Number of fraudulent transactions:\n",
        "no_fraud = data['Class'].value_counts()[1]      # 492\n",
        "\n",
        "# Separate dataset by class\n",
        "fraud_df = new_df.loc[new_df['Class'] == 1]\n",
        "legit_df = new_df.loc[new_df['Class'] == 0][:no_fraud]\n",
        "\n",
        "# Concatenate the two dataframes\n",
        "new_df = pd.concat([fraud_df, legit_df])\n",
        "# And shuffle the new dataframe\n",
        "new_df = new_df.sample(frac=1, random_state=19)\n",
        "\n",
        "new_df.head()"
      ],
      "execution_count": null,
      "outputs": [
        {
          "output_type": "execute_result",
          "data": {
            "text/html": [
              "<div>\n",
              "<style scoped>\n",
              "    .dataframe tbody tr th:only-of-type {\n",
              "        vertical-align: middle;\n",
              "    }\n",
              "\n",
              "    .dataframe tbody tr th {\n",
              "        vertical-align: top;\n",
              "    }\n",
              "\n",
              "    .dataframe thead th {\n",
              "        text-align: right;\n",
              "    }\n",
              "</style>\n",
              "<table border=\"1\" class=\"dataframe\">\n",
              "  <thead>\n",
              "    <tr style=\"text-align: right;\">\n",
              "      <th></th>\n",
              "      <th>V1</th>\n",
              "      <th>V2</th>\n",
              "      <th>V3</th>\n",
              "      <th>V4</th>\n",
              "      <th>V5</th>\n",
              "      <th>V6</th>\n",
              "      <th>V7</th>\n",
              "      <th>V8</th>\n",
              "      <th>V9</th>\n",
              "      <th>V10</th>\n",
              "      <th>V11</th>\n",
              "      <th>V12</th>\n",
              "      <th>V13</th>\n",
              "      <th>V14</th>\n",
              "      <th>V15</th>\n",
              "      <th>V16</th>\n",
              "      <th>V17</th>\n",
              "      <th>V18</th>\n",
              "      <th>V19</th>\n",
              "      <th>V20</th>\n",
              "      <th>V21</th>\n",
              "      <th>V22</th>\n",
              "      <th>V23</th>\n",
              "      <th>V24</th>\n",
              "      <th>V25</th>\n",
              "      <th>V26</th>\n",
              "      <th>V27</th>\n",
              "      <th>V28</th>\n",
              "      <th>Class</th>\n",
              "      <th>scaled_amount</th>\n",
              "      <th>scaled_time</th>\n",
              "    </tr>\n",
              "  </thead>\n",
              "  <tbody>\n",
              "    <tr>\n",
              "      <th>200580</th>\n",
              "      <td>-3.308348</td>\n",
              "      <td>-0.914141</td>\n",
              "      <td>-1.650619</td>\n",
              "      <td>-1.288784</td>\n",
              "      <td>1.002869</td>\n",
              "      <td>-0.846744</td>\n",
              "      <td>1.080358</td>\n",
              "      <td>0.249428</td>\n",
              "      <td>-2.413760</td>\n",
              "      <td>0.138586</td>\n",
              "      <td>-0.229478</td>\n",
              "      <td>-0.237314</td>\n",
              "      <td>-0.346950</td>\n",
              "      <td>1.231089</td>\n",
              "      <td>-1.067350</td>\n",
              "      <td>-1.473002</td>\n",
              "      <td>-0.059541</td>\n",
              "      <td>1.568451</td>\n",
              "      <td>0.054796</td>\n",
              "      <td>-1.803464</td>\n",
              "      <td>-0.387903</td>\n",
              "      <td>0.316150</td>\n",
              "      <td>0.734238</td>\n",
              "      <td>0.277643</td>\n",
              "      <td>1.778519</td>\n",
              "      <td>1.189121</td>\n",
              "      <td>-0.203270</td>\n",
              "      <td>-0.368585</td>\n",
              "      <td>0</td>\n",
              "      <td>0.233250</td>\n",
              "      <td>0.814460</td>\n",
              "    </tr>\n",
              "    <tr>\n",
              "      <th>282567</th>\n",
              "      <td>1.938498</td>\n",
              "      <td>-0.270778</td>\n",
              "      <td>-1.412667</td>\n",
              "      <td>-0.008288</td>\n",
              "      <td>0.797130</td>\n",
              "      <td>0.914555</td>\n",
              "      <td>-0.177881</td>\n",
              "      <td>0.281718</td>\n",
              "      <td>0.336101</td>\n",
              "      <td>0.114028</td>\n",
              "      <td>1.001623</td>\n",
              "      <td>1.094878</td>\n",
              "      <td>-0.089186</td>\n",
              "      <td>0.542143</td>\n",
              "      <td>0.164013</td>\n",
              "      <td>-0.590282</td>\n",
              "      <td>0.064640</td>\n",
              "      <td>-1.495831</td>\n",
              "      <td>-0.392207</td>\n",
              "      <td>-0.297822</td>\n",
              "      <td>-0.200522</td>\n",
              "      <td>-0.374814</td>\n",
              "      <td>0.336150</td>\n",
              "      <td>-1.634985</td>\n",
              "      <td>-0.462517</td>\n",
              "      <td>0.310578</td>\n",
              "      <td>-0.026235</td>\n",
              "      <td>-0.087726</td>\n",
              "      <td>0</td>\n",
              "      <td>-0.350471</td>\n",
              "      <td>1.604196</td>\n",
              "    </tr>\n",
              "    <tr>\n",
              "      <th>203700</th>\n",
              "      <td>1.204934</td>\n",
              "      <td>3.238070</td>\n",
              "      <td>-6.010324</td>\n",
              "      <td>5.720847</td>\n",
              "      <td>1.548400</td>\n",
              "      <td>-2.321064</td>\n",
              "      <td>-0.781880</td>\n",
              "      <td>0.076619</td>\n",
              "      <td>-2.976249</td>\n",
              "      <td>-4.070257</td>\n",
              "      <td>3.394152</td>\n",
              "      <td>-4.547742</td>\n",
              "      <td>-0.063634</td>\n",
              "      <td>-10.516465</td>\n",
              "      <td>0.053267</td>\n",
              "      <td>0.204080</td>\n",
              "      <td>0.462929</td>\n",
              "      <td>0.841169</td>\n",
              "      <td>-2.221384</td>\n",
              "      <td>0.338161</td>\n",
              "      <td>0.098341</td>\n",
              "      <td>-0.845866</td>\n",
              "      <td>-0.031228</td>\n",
              "      <td>0.421146</td>\n",
              "      <td>0.388361</td>\n",
              "      <td>0.056035</td>\n",
              "      <td>0.491828</td>\n",
              "      <td>0.340847</td>\n",
              "      <td>1</td>\n",
              "      <td>-0.353229</td>\n",
              "      <td>0.844721</td>\n",
              "    </tr>\n",
              "    <tr>\n",
              "      <th>153718</th>\n",
              "      <td>1.977147</td>\n",
              "      <td>-0.142588</td>\n",
              "      <td>-0.822587</td>\n",
              "      <td>1.689398</td>\n",
              "      <td>0.137897</td>\n",
              "      <td>0.230618</td>\n",
              "      <td>-0.301322</td>\n",
              "      <td>0.033294</td>\n",
              "      <td>2.664173</td>\n",
              "      <td>-0.341931</td>\n",
              "      <td>-1.049219</td>\n",
              "      <td>-2.783509</td>\n",
              "      <td>-0.253273</td>\n",
              "      <td>1.496767</td>\n",
              "      <td>-2.196292</td>\n",
              "      <td>-0.733963</td>\n",
              "      <td>0.911089</td>\n",
              "      <td>-0.372339</td>\n",
              "      <td>0.163479</td>\n",
              "      <td>-0.421441</td>\n",
              "      <td>-0.527528</td>\n",
              "      <td>-0.986647</td>\n",
              "      <td>0.267859</td>\n",
              "      <td>0.273225</td>\n",
              "      <td>0.024598</td>\n",
              "      <td>-0.863874</td>\n",
              "      <td>-0.000989</td>\n",
              "      <td>-0.049691</td>\n",
              "      <td>0</td>\n",
              "      <td>-0.317247</td>\n",
              "      <td>0.107293</td>\n",
              "    </tr>\n",
              "    <tr>\n",
              "      <th>14170</th>\n",
              "      <td>-15.903635</td>\n",
              "      <td>10.393917</td>\n",
              "      <td>-19.133602</td>\n",
              "      <td>6.185969</td>\n",
              "      <td>-12.538021</td>\n",
              "      <td>-4.027030</td>\n",
              "      <td>-13.897827</td>\n",
              "      <td>10.662252</td>\n",
              "      <td>-2.844954</td>\n",
              "      <td>-9.668789</td>\n",
              "      <td>7.394419</td>\n",
              "      <td>-11.635630</td>\n",
              "      <td>1.423277</td>\n",
              "      <td>-8.640459</td>\n",
              "      <td>-0.674720</td>\n",
              "      <td>-7.695569</td>\n",
              "      <td>-13.684140</td>\n",
              "      <td>-4.777406</td>\n",
              "      <td>1.268343</td>\n",
              "      <td>1.501565</td>\n",
              "      <td>1.577548</td>\n",
              "      <td>-1.280137</td>\n",
              "      <td>-0.601295</td>\n",
              "      <td>0.040404</td>\n",
              "      <td>0.995502</td>\n",
              "      <td>-0.273743</td>\n",
              "      <td>1.688136</td>\n",
              "      <td>0.527831</td>\n",
              "      <td>1</td>\n",
              "      <td>0.046539</td>\n",
              "      <td>-1.465965</td>\n",
              "    </tr>\n",
              "  </tbody>\n",
              "</table>\n",
              "</div>"
            ],
            "text/plain": [
              "               V1         V2         V3  ...  Class  scaled_amount  scaled_time\n",
              "200580  -3.308348  -0.914141  -1.650619  ...      0       0.233250     0.814460\n",
              "282567   1.938498  -0.270778  -1.412667  ...      0      -0.350471     1.604196\n",
              "203700   1.204934   3.238070  -6.010324  ...      1      -0.353229     0.844721\n",
              "153718   1.977147  -0.142588  -0.822587  ...      0      -0.317247     0.107293\n",
              "14170  -15.903635  10.393917 -19.133602  ...      1       0.046539    -1.465965\n",
              "\n",
              "[5 rows x 31 columns]"
            ]
          },
          "metadata": {
            "tags": []
          },
          "execution_count": 173
        }
      ]
    },
    {
      "cell_type": "code",
      "metadata": {
        "id": "71yGZXl1_ebQ",
        "colab": {
          "base_uri": "https://localhost:8080/",
          "height": 412
        },
        "outputId": "d0f0bf49-93a4-4f5d-d94f-06232b3aca4f"
      },
      "source": [
        "# The subsample is balanced with regards to the classes\n",
        "\n",
        "print(\"\"\"\n",
        "Number of transactions in the balanced subsample: %i\n",
        "Number of fraudulent transactions: %i (%i%%)\n",
        "Number of legitimate transactions: %i (%i%%)\n",
        "\"\"\" % (len(new_df), new_df['Class'].value_counts()[1],new_df['Class'].value_counts()[1]/len(new_df)*100, new_df['Class'].value_counts()[0], new_df['Class'].value_counts()[0]/len(new_df)*100))\n",
        "\n",
        "# Ploting the transactions by Class in subsample\n",
        "count_classes_new_df = new_df.value_counts(new_df['Class']).sort_index()\n",
        "count_classes_new_df.plot(kind = 'bar', title = \"Distribution by Class \\n Legitimate = 0; Fraud = 1\", xlabel = \"Class\", ylabel = \"Frequency\", rot = 0)"
      ],
      "execution_count": null,
      "outputs": [
        {
          "output_type": "stream",
          "text": [
            "\n",
            "Number of transactions in the balanced subsample: 984\n",
            "Number of fraudlent transactions: 492 (50%)\n",
            "Number of legitimate transactions: 492 (50%)\n",
            "\n"
          ],
          "name": "stdout"
        },
        {
          "output_type": "execute_result",
          "data": {
            "text/plain": [
              "<matplotlib.axes._subplots.AxesSubplot at 0x7efd4bcc02e8>"
            ]
          },
          "metadata": {
            "tags": []
          },
          "execution_count": 174
        },
        {
          "output_type": "display_data",
          "data": {
            "image/png": "[encoded data removed]",
            "text/plain": [
              "<Figure size 432x288 with 1 Axes>"
            ]
          },
          "metadata": {
            "tags": [],
            "needs_background": "light"
          }
        }
      ]
    },
    {
      "cell_type": "code",
      "metadata": {
        "id": "ChYPlgQTHWKJ",
        "colab": {
          "base_uri": "https://localhost:8080/",
          "height": 565
        },
        "outputId": "bf9e0d24-5814-4299-fba2-65be628c0025"
      },
      "source": [
        "# Also, the previously mentioned problems with the correlations are now greatly reduced.\n",
        "\n",
        "fig, ax1 = plt.subplots(figsize=(12,8))\n",
        "\n",
        "# Balanced dataframe correlation\n",
        "corr = new_df.corr()\n",
        "sns.heatmap(corr, cmap='BuGn', ax = ax1)\n",
        "ax1.set_title(\"Unbalanced Dataset Correlation Matrix\", fontsize=14)\n",
        "plt.show()"
      ],
      "execution_count": null,
      "outputs": [
        {
          "output_type": "display_data",
          "data": {
            "image/png": "[encoded data removed]",
            "text/plain": [
              "<Figure size 864x576 with 2 Axes>"
            ]
          },
          "metadata": {
            "tags": [],
            "needs_background": "light"
          }
        }
      ]
    },
    {
      "cell_type": "markdown",
      "metadata": {
        "id": "qOGv4-LwP27e"
      },
      "source": [
        "# 5) Logistic Regression Classifier\n",
        "\n",
        "This section will be comprised as follows:\n",
        "\n",
        "1. Feature selection using Recursive Feature Elimination and Cross-Validation (RFECV). The pruned features will be removed from the balanced subsample.\n",
        "2. Splitting the new balanced dataset into training and testing subsets.\n",
        "3. Determine the parameters that give the best predictive cross-validation score using GridSearchCV.\n",
        "4. Logistic Regression model evaluation (cross-validation score, classification report, confusion matrix).\n",
        "\n",
        "\n",
        "The classifier will be evaluated regarding its accuracy measures.\n",
        "\n",
        "Finally, we'll generate predictions on the training data using the developed model."
      ]
    },
    {
      "cell_type": "markdown",
      "metadata": {
        "id": "EM_2goDkHy7k"
      },
      "source": [
        "### 1) Feature selection using RFECV\n",
        "\n",
        "RFECV performs Recursive Feature Elimination (RFE) in a cross-validation loop to find the optimal number or the best number of features. It also returns the best features to include in the model.\n",
        "\n",
        "[Source](https://scikit-learn.org/stable/modules/generated/sklearn.feature_selection.RFECV.html#sklearn.feature_selection.RFECV)."
      ]
    },
    {
      "cell_type": "code",
      "metadata": {
        "colab": {
          "base_uri": "https://localhost:8080/"
        },
        "id": "PqaA7XHr9hbr",
        "outputId": "d7449be3-0716-40c4-b1e7-655564ee9efe"
      },
      "source": [
        "# Create X (features) and y (response/check)\n",
        "X = new_df.drop('Class',axis=1)\n",
        "y = new_df['Class']\n",
        "\n",
        "# Logistic Regression Model\n",
        "lr = LogisticRegression()\n",
        "\n",
        "# Use accuracy score as the scorer\n",
        "rfecv = RFECV(estimator = lr, step=1, cv=5, scoring='accuracy')\n",
        "rfecv.fit(X, y)\n",
        "\n",
        "print(\"Optimal number of features: %d\" % rfecv.n_features_)\n",
        "print('Selected features: %s' % list(X.columns[rfecv.support_]))\n",
        "\n",
        "# Removing pruned features from balanced subsample.\n",
        "X = X[list(X.columns[rfecv.support_])]"
      ],
      "execution_count": null,
      "outputs": [
        {
          "output_type": "stream",
          "text": [
            "Optimal number of features: 5\n",
            "Selected features: ['V4', 'V12', 'V14', 'V25', 'V26']\n"
          ],
          "name": "stdout"
        }
      ]
    },
    {
      "cell_type": "markdown",
      "metadata": {
        "id": "-wwDp3ybIUL8"
      },
      "source": [
        "### 2) Split subsample into training and testing subsets"
      ]
    },
    {
      "cell_type": "code",
      "metadata": {
        "id": "ZZO9pEqbSNAE"
      },
      "source": [
        "# 80/20 split\n",
        "X_train, X_test, y_train, y_test = train_test_split(X, y, test_size=0.2, random_state=19)"
      ],
      "execution_count": null,
      "outputs": []
    },
    {
      "cell_type": "markdown",
      "metadata": {
        "id": "_0rW3jtNMZaF"
      },
      "source": [
        "### 3) Determine the best parameters (GridSearchCV)"
      ]
    },
    {
      "cell_type": "code",
      "metadata": {
        "id": "RhwRvez0Uzcs",
        "colab": {
          "base_uri": "https://localhost:8080/"
        },
        "outputId": "30df53f8-1a4c-4302-bfcf-39a7a9a10bd3"
      },
      "source": [
        "# Fit a Logistic Regression classifier into the training data\n",
        "lr = LogisticRegression().fit(X_train, y_train)\n",
        "\n",
        "# We can check the cross-validation score of this \"untouched\" model:\n",
        "print(\"Pre-GridSearchCV Cross Validation Score: \", round(cross_val_score(lr, X_train, y_train).mean(),3)*100, \"%\")\n",
        "\n",
        "\n",
        "# Using GridSearchCV to figure out the parameters that return the best cross-validation score\n",
        "\n",
        "# Parameter grid:\n",
        "lr_params = {'penalty': ['l1', 'l2'], 'C': [0.001, 0.01, 0.1, 1, 10, 100, 1000]}\n",
        "\n",
        "grid_lr = GridSearchCV(estimator = LogisticRegression(), param_grid = lr_params)\n",
        "grid_lr.fit(X_train, y_train)\n",
        "\n",
        "# The Logistic Regression model with the best parameters:\n",
        "lr = grid_lr.best_estimator_\n",
        "print(\"\\nPost-GridSearchCV Cross Validation Score: \", round(cross_val_score(lr, X_train, y_train).mean(),3)*100, \"%\")"
      ],
      "execution_count": null,
      "outputs": [
        {
          "output_type": "stream",
          "text": [
            "Pre-GridSearchCV Cross Validation Score:  93.30000000000001 %\n",
            "\n",
            "Post-GridSearchCV Cross Validation Score:  93.4 %\n"
          ],
          "name": "stdout"
        }
      ]
    },
    {
      "cell_type": "markdown",
      "metadata": {
        "id": "2h8tDvDqQwSa"
      },
      "source": [
        "### 4) Logistic Regression model evaluation"
      ]
    },
    {
      "cell_type": "code",
      "metadata": {
        "colab": {
          "base_uri": "https://localhost:8080/"
        },
        "id": "Z8iMEG_fT_RX",
        "outputId": "91c6bae1-1f1c-40a2-e1dc-715940cf7bca"
      },
      "source": [
        "# Evaluation on training set\n",
        "y_pred_train = lr.predict(X_train)\n",
        "y_pred_train_prob = lr.predict_log_proba(X_train)[:, 1]\n",
        "[fpr, tpr, thr] = roc_curve(y_train, y_pred_train_prob)\n",
        "training_score = accuracy_score(y_train, y_pred_train)\n",
        "\n",
        "print(lr.__class__.__name__, \" training accuracy score: %2.3f\" % training_score)\n",
        "print(lr.__class__.__name__,\" auc is %2.3f\" % auc(fpr, tpr))\n",
        "print(lr.__class__.__name__, \" training classification report:\", \"\\n\", classification_report(y_train, y_pred_train))"
      ],
      "execution_count": null,
      "outputs": [
        {
          "output_type": "stream",
          "text": [
            "LogisticRegression  training accuracy score: 0.934\n",
            "LogisticRegression  auc is 0.973\n",
            "LogisticRegression  training classification report: \n",
            "               precision    recall  f1-score   support\n",
            "\n",
            "           0       0.90      0.98      0.94       393\n",
            "           1       0.97      0.89      0.93       394\n",
            "\n",
            "    accuracy                           0.93       787\n",
            "   macro avg       0.94      0.93      0.93       787\n",
            "weighted avg       0.94      0.93      0.93       787\n",
            "\n"
          ],
          "name": "stdout"
        }
      ]
    },
    {
      "cell_type": "code",
      "metadata": {
        "colab": {
          "base_uri": "https://localhost:8080/",
          "height": 520
        },
        "id": "sy3iHFG7Tr9I",
        "outputId": "b5b2ee75-18d9-4506-b1ad-1a1809a874fb"
      },
      "source": [
        "# Confusion Matrix on training set\n",
        "lr_cf_training = confusion_matrix(y_train, y_pred_train)\n",
        "\n",
        "fig, ax = plt.subplots(figsize=(12,8))\n",
        "\n",
        "sns.heatmap(lr_cf_training, ax=ax, annot=True, annot_kws={\"fontsize\":14}, cmap='BuGn')\n",
        "ax.set_title(\"Confusion Matrix \\n Logistic Regression | Training set\", fontsize=14)\n",
        "ax.set_xticklabels(['True: 0', 'True: 1'], fontsize=14)\n",
        "ax.set_yticklabels(['Predicted: 0', 'Predicted: 1'], fontsize=14, rotation=360)\n",
        "plt.show()"
      ],
      "execution_count": null,
      "outputs": [
        {
          "output_type": "display_data",
          "data": {
            "image/png": "[encoded data removed]",
            "text/plain": [
              "<Figure size 864x576 with 2 Axes>"
            ]
          },
          "metadata": {
            "tags": [],
            "needs_background": "light"
          }
        }
      ]
    },
    {
      "cell_type": "code",
      "metadata": {
        "colab": {
          "base_uri": "https://localhost:8080/"
        },
        "id": "AtSDnQ1UVy8A",
        "outputId": "ccb06063-f47c-4ccc-c8b5-a5cbefa95854"
      },
      "source": [
        "# Evaluation on test set (predictions)\n",
        "y_pred = lr.predict(X_test)\n",
        "y_pred_prob = lr.predict_log_proba(X_test)[:, 1]\n",
        "[fpr, tpr, thr] = roc_curve(y_test, y_pred_prob)\n",
        "testing_score = accuracy_score(y_test, y_pred)\n",
        "\n",
        "print(lr.__class__.__name__, \" training accuracy score: %2.3f\" % testing_score)\n",
        "print(lr.__class__.__name__,\" auc is %2.3f\" % auc(fpr, tpr))\n",
        "print(lr.__class__.__name__, \"testing classification report:\", \"\\n\", classification_report(y_test, y_pred))"
      ],
      "execution_count": null,
      "outputs": [
        {
          "output_type": "stream",
          "text": [
            "LogisticRegression  training accuracy score: 0.939\n",
            "LogisticRegression  auc is 0.991\n",
            "LogisticRegression testing classification report: \n",
            "               precision    recall  f1-score   support\n",
            "\n",
            "           0       0.91      0.98      0.94        99\n",
            "           1       0.98      0.90      0.94        98\n",
            "\n",
            "    accuracy                           0.94       197\n",
            "   macro avg       0.94      0.94      0.94       197\n",
            "weighted avg       0.94      0.94      0.94       197\n",
            "\n"
          ],
          "name": "stdout"
        }
      ]
    },
    {
      "cell_type": "code",
      "metadata": {
        "colab": {
          "base_uri": "https://localhost:8080/",
          "height": 333
        },
        "id": "q2Bu6OqbTWqI",
        "outputId": "d7ba1909-0113-40e0-80c8-cb4356c6d480"
      },
      "source": [
        "# ROC Curve\n",
        "\n",
        "idx = np.min(np.where(tpr > 0.95)) # index of the first threshold for which the sensibility > 0.95\n",
        "\n",
        "plt.figure()\n",
        "plt.plot(fpr, tpr, color='darkgreen', label='ROC curve (area = %0.3f)' % auc(fpr, tpr))\n",
        "plt.plot([0, 1], [0, 1], 'k--')\n",
        "plt.plot([0,fpr[idx]], [tpr[idx],tpr[idx]], 'k--', color='lightblue')\n",
        "plt.plot([fpr[idx],fpr[idx]], [0,tpr[idx]], 'k--', color='lightblue')\n",
        "plt.xlim([0.0, 1.0])\n",
        "plt.ylim([0.0, 1.05])\n",
        "plt.xlabel('False Positive Rate (1 - specificity)', fontsize=14)\n",
        "plt.ylabel('True Positive Rate (recall)', fontsize=14)\n",
        "plt.title('Receiver operating characteristic (ROC) curve')\n",
        "plt.legend(loc=\"lower right\")\n",
        "plt.show()\n",
        "\n",
        "print(\"\\nUsing a threshold of %.3f \" % thr[idx] + \"guarantees a sensitivity of %.3f \" % tpr[idx] +  \n",
        "      \"and a specificity of %.3f\" % (1-fpr[idx]) + \n",
        "      \", i.e. a false positive rate of %.2f%%.\" % (np.array(fpr[idx])*100))\n"
      ],
      "execution_count": null,
      "outputs": [
        {
          "output_type": "display_data",
          "data": {
            "image/png": "[encoded data removed]",
            "text/plain": [
              "<Figure size 432x288 with 1 Axes>"
            ]
          },
          "metadata": {
            "tags": [],
            "needs_background": "light"
          }
        },
        {
          "output_type": "stream",
          "text": [
            "\n",
            "Using a threshold of -1.451 guarantees a sensitivity of 0.959 and a specificity of 0.929, i.e. a false positive rate of 7.07%.\n"
          ],
          "name": "stdout"
        }
      ]
    },
    {
      "cell_type": "code",
      "metadata": {
        "colab": {
          "base_uri": "https://localhost:8080/",
          "height": 520
        },
        "id": "jvIzfA0sdi1p",
        "outputId": "2d348666-a8a9-4ab1-f7a4-12809991c17c"
      },
      "source": [
        "# Confusion Matrix on training set\n",
        "lr_cf= confusion_matrix(y_test, y_pred)\n",
        "\n",
        "fig, ax = plt.subplots(figsize=(12,8))\n",
        "\n",
        "sns.heatmap(lr_cf, ax=ax, annot=True, annot_kws={\"fontsize\":14}, cmap='BuGn')\n",
        "ax.set_title(\"Confusion Matrix \\n Logistic Regression | Test set\", fontsize=14)\n",
        "ax.set_xticklabels(['True: 0', 'True: 1'], fontsize=14)\n",
        "ax.set_yticklabels(['Predicted: 0', 'Predicted: 1'], fontsize=14, rotation=360)\n",
        "plt.show()"
      ],
      "execution_count": null,
      "outputs": [
        {
          "output_type": "display_data",
          "data": {
            "image/png": "[encoded data removed]",
            "text/plain": [
              "<Figure size 864x576 with 2 Axes>"
            ]
          },
          "metadata": {
            "tags": [],
            "needs_background": "light"
          }
        }
      ]
    },
    {
      "cell_type": "markdown",
      "metadata": {
        "id": "scPO_VsPFmPQ"
      },
      "source": [
        "# 6) Conclusions\n",
        "\n",
        "* The model has an accuracy score of 0.95\n",
        "* A precision of 0.93\n",
        "* And a recall of 0.97\n",
        "* Area under the ROC Curve: 0.986\n",
        "\n",
        "*Note: Results might vary due to the random subsample generation (section 4.1).*"
      ]
    },
    {
      "cell_type": "markdown",
      "metadata": {
        "id": "NgwuS9UV4h_E"
      },
      "source": [
        "# 7) Improvements and Next Steps\n",
        "\n",
        "1. Problems with random under-sampling\n",
        "\n",
        "The main issue with random under-sampling is information loss, since we generate from a dataset with 284,807 observations a sample with (only) 984 transactions.\n",
        "\n",
        "**Possible solution**: Apply other subsampling technique, for example [SMOTE](https://machinelearningmastery.com/smote-oversampling-for-imbalanced-classification/).\n",
        "\n",
        "2. Under/over-sampling during cross-validation\n",
        "\n",
        "When dealing with unbalanced dataset, the order of events in the process of sampling take a whole other level of importance. It is highly recommended to **perform sampling during cross-validation** to avoid overfitting and \"data-leakage\" problems. Such technique would also allow to use the whole dataset for training and testing. [Learn more](https://www.marcoaltini.com/blog/dealing-with-imbalanced-data-undersampling-oversampling-and-proper-cross-validation).\n",
        "\n",
        "3. Lack of data pre-processing\n",
        "\n",
        "There is still room to perform more data pre-processing, for instance by inspecting the data for outliers or extremely correlated features.\n",
        "\n",
        "4. Testing other classifiers\n",
        "\n",
        "Despite the robustness of Logistic Regression, an interesting exercise would be to evaluate the performance of this classifier against other algorithms, such as Random Forest, Decision Tree, Support Vector Classifier, etc."
      ]
    }
  ]
}
